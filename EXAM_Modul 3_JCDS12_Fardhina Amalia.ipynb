{
 "cells": [
  {
   "cell_type": "markdown",
   "metadata": {},
   "source": [
    "# Default Payment Prediction"
   ]
  },
  {
   "cell_type": "markdown",
   "metadata": {},
   "source": [
    "## Problem\n",
    "- Bank ingin mengingatkan nasabah yang belum membayar kartu kredit pada bulan depan, namun menghubungi semua nasabah tentu menghabiskan cost yang lebih banyak sehingga perlu dilakukan prediksi customer mana berpotensi akan menunggak (default payment) supaya mereka bisa membayar secara tepat waktu.\n",
    "\n",
    "## Goals\n",
    "- Mempertahankan dan meningkatkan revenue perusahaan/bank.\n",
    "- Meminimalkan modal/cost menelfon/mengingatkan nasabah.\n"
   ]
  },
  {
   "cell_type": "markdown",
   "metadata": {},
   "source": [
    "## Import Common Package"
   ]
  },
  {
   "cell_type": "code",
   "execution_count": null,
   "metadata": {},
   "outputs": [],
   "source": [
    "import numpy as np\n",
    "import pandas as pd\n",
    "import matplotlib.pyplot as plt\n",
    "import seaborn as sns\n",
    "\n",
    "from dython.nominal import associations, cramers_v, correlation_ratio, theils_u\n",
    "\n",
    "from sklearn.model_selection import train_test_split, StratifiedKFold, GridSearchCV,RandomizedSearchCV\n",
    "from sklearn.metrics import accuracy_score, recall_score, precision_score, f1_score, confusion_matrix, classification_report\n",
    "\n",
    "\n",
    "from sklearn.preprocessing import StandardScaler, MinMaxScaler, RobustScaler,OneHotEncoder\n",
    "from sklearn.neighbors import KNeighborsClassifier\n",
    "from sklearn.ensemble import RandomForestClassifier\n",
    "from sklearn.svm import SVC\n",
    "from sklearn.linear_model import LogisticRegression\n",
    "from sklearn.preprocessing import PolynomialFeatures, PowerTransformer\n",
    "\n",
    "\n",
    "from sklearn.pipeline import Pipeline\n",
    "from sklearn.impute import SimpleImputer\n",
    "from sklearn.compose import ColumnTransformer\n",
    "\n",
    "import joblib\n",
    "\n",
    "\n",
    "pd.set_option('display.max_rows', 300)\n",
    "\n",
    "\n",
    "import warnings\n",
    "warnings.filterwarnings('ignore')"
   ]
  },
  {
   "cell_type": "markdown",
   "metadata": {},
   "source": [
    "# Import Dataset"
   ]
  },
  {
   "cell_type": "code",
   "execution_count": 3,
   "metadata": {},
   "outputs": [
    {
     "data": {
      "text/html": [
       "<div>\n",
       "<style scoped>\n",
       "    .dataframe tbody tr th:only-of-type {\n",
       "        vertical-align: middle;\n",
       "    }\n",
       "\n",
       "    .dataframe tbody tr th {\n",
       "        vertical-align: top;\n",
       "    }\n",
       "\n",
       "    .dataframe thead th {\n",
       "        text-align: right;\n",
       "    }\n",
       "</style>\n",
       "<table border=\"1\" class=\"dataframe\">\n",
       "  <thead>\n",
       "    <tr style=\"text-align: right;\">\n",
       "      <th></th>\n",
       "      <th>ID</th>\n",
       "      <th>LIMIT_BAL</th>\n",
       "      <th>SEX</th>\n",
       "      <th>EDUCATION</th>\n",
       "      <th>MARRIAGE</th>\n",
       "      <th>AGE</th>\n",
       "      <th>PAY_0</th>\n",
       "      <th>PAY_2</th>\n",
       "      <th>PAY_3</th>\n",
       "      <th>PAY_4</th>\n",
       "      <th>...</th>\n",
       "      <th>BILL_AMT4</th>\n",
       "      <th>BILL_AMT5</th>\n",
       "      <th>BILL_AMT6</th>\n",
       "      <th>PAY_AMT1</th>\n",
       "      <th>PAY_AMT2</th>\n",
       "      <th>PAY_AMT3</th>\n",
       "      <th>PAY_AMT4</th>\n",
       "      <th>PAY_AMT5</th>\n",
       "      <th>PAY_AMT6</th>\n",
       "      <th>default payment next month</th>\n",
       "    </tr>\n",
       "  </thead>\n",
       "  <tbody>\n",
       "    <tr>\n",
       "      <th>0</th>\n",
       "      <td>1</td>\n",
       "      <td>20000</td>\n",
       "      <td>2</td>\n",
       "      <td>2</td>\n",
       "      <td>1</td>\n",
       "      <td>24</td>\n",
       "      <td>2</td>\n",
       "      <td>2</td>\n",
       "      <td>-1</td>\n",
       "      <td>-1</td>\n",
       "      <td>...</td>\n",
       "      <td>0</td>\n",
       "      <td>0</td>\n",
       "      <td>0</td>\n",
       "      <td>0</td>\n",
       "      <td>689</td>\n",
       "      <td>0</td>\n",
       "      <td>0</td>\n",
       "      <td>0</td>\n",
       "      <td>0</td>\n",
       "      <td>1</td>\n",
       "    </tr>\n",
       "    <tr>\n",
       "      <th>1</th>\n",
       "      <td>2</td>\n",
       "      <td>120000</td>\n",
       "      <td>2</td>\n",
       "      <td>2</td>\n",
       "      <td>2</td>\n",
       "      <td>26</td>\n",
       "      <td>-1</td>\n",
       "      <td>2</td>\n",
       "      <td>0</td>\n",
       "      <td>0</td>\n",
       "      <td>...</td>\n",
       "      <td>3272</td>\n",
       "      <td>3455</td>\n",
       "      <td>3261</td>\n",
       "      <td>0</td>\n",
       "      <td>1000</td>\n",
       "      <td>1000</td>\n",
       "      <td>1000</td>\n",
       "      <td>0</td>\n",
       "      <td>2000</td>\n",
       "      <td>1</td>\n",
       "    </tr>\n",
       "    <tr>\n",
       "      <th>2</th>\n",
       "      <td>3</td>\n",
       "      <td>90000</td>\n",
       "      <td>2</td>\n",
       "      <td>2</td>\n",
       "      <td>2</td>\n",
       "      <td>34</td>\n",
       "      <td>0</td>\n",
       "      <td>0</td>\n",
       "      <td>0</td>\n",
       "      <td>0</td>\n",
       "      <td>...</td>\n",
       "      <td>14331</td>\n",
       "      <td>14948</td>\n",
       "      <td>15549</td>\n",
       "      <td>1518</td>\n",
       "      <td>1500</td>\n",
       "      <td>1000</td>\n",
       "      <td>1000</td>\n",
       "      <td>1000</td>\n",
       "      <td>5000</td>\n",
       "      <td>0</td>\n",
       "    </tr>\n",
       "  </tbody>\n",
       "</table>\n",
       "<p>3 rows × 25 columns</p>\n",
       "</div>"
      ],
      "text/plain": [
       "   ID  LIMIT_BAL  SEX  EDUCATION  MARRIAGE  AGE  PAY_0  PAY_2  PAY_3  PAY_4  \\\n",
       "0   1      20000    2          2         1   24      2      2     -1     -1   \n",
       "1   2     120000    2          2         2   26     -1      2      0      0   \n",
       "2   3      90000    2          2         2   34      0      0      0      0   \n",
       "\n",
       "   ...  BILL_AMT4  BILL_AMT5  BILL_AMT6  PAY_AMT1  PAY_AMT2  PAY_AMT3  \\\n",
       "0  ...          0          0          0         0       689         0   \n",
       "1  ...       3272       3455       3261         0      1000      1000   \n",
       "2  ...      14331      14948      15549      1518      1500      1000   \n",
       "\n",
       "   PAY_AMT4  PAY_AMT5  PAY_AMT6  default payment next month  \n",
       "0         0         0         0                           1  \n",
       "1      1000         0      2000                           1  \n",
       "2      1000      1000      5000                           0  \n",
       "\n",
       "[3 rows x 25 columns]"
      ]
     },
     "execution_count": 3,
     "metadata": {},
     "output_type": "execute_result"
    }
   ],
   "source": [
    "df=pd.read_excel(\"CreditCard.xls\",skiprows=1)\n",
    "df.head(3)"
   ]
  },
  {
   "cell_type": "markdown",
   "metadata": {},
   "source": [
    "## Penjelasan dataset :\n",
    "### Ini merupakan data Harga dari beberapa Credit Card yg menunggak bayar\n",
    "## Penjelasan kolom/feature\n",
    "- Limit_bal : amount the given credit (NT Dollar). it include consumer credit and his/her family(suplementary) credit (jumlah limit)\n",
    "- gender (1: male, 2 : female)\n",
    "- education(1:graduate school, 2:university, 3: high school, 4:others)\n",
    "- marital status(1:married,2:single,3: others)\n",
    "- age(years)\n",
    "- pay_ : histroy of past payment , from april-september 2005 , pay_1 : september, pay_2: agustus, pay_3:july,..., pay_6:april,\n",
    "    - -1 :pay duly (membayar lunas)\n",
    "    - 0 :gada tunggakan\n",
    "    - 1 : delay 1 bulan\n",
    "    - 2: delay 2 bulan\n",
    "    - dst\n",
    "- bill_amt_ : amount of bill statement (jumlah tagihan) , _1:september, _2:agustus,..., _6:april\n",
    "- pay_amt_ : amount of previous statement (jumlah tagihan sebelumnya) : _1:jumlah yang dibayar di september, _2:jumlah yang dibayar di agustus, ..,_6:jumlah yang dibayar di april 2005\n",
    "- target : default payment next month , 1 :yes , 0: no (nunggak atau ngga bulan depan)\n",
    "    \n"
   ]
  },
  {
   "cell_type": "code",
   "execution_count": 4,
   "metadata": {},
   "outputs": [
    {
     "name": "stdout",
     "output_type": "stream",
     "text": [
      "<class 'pandas.core.frame.DataFrame'>\n",
      "RangeIndex: 30000 entries, 0 to 29999\n",
      "Data columns (total 25 columns):\n",
      " #   Column                      Non-Null Count  Dtype\n",
      "---  ------                      --------------  -----\n",
      " 0   ID                          30000 non-null  int64\n",
      " 1   LIMIT_BAL                   30000 non-null  int64\n",
      " 2   SEX                         30000 non-null  int64\n",
      " 3   EDUCATION                   30000 non-null  int64\n",
      " 4   MARRIAGE                    30000 non-null  int64\n",
      " 5   AGE                         30000 non-null  int64\n",
      " 6   PAY_0                       30000 non-null  int64\n",
      " 7   PAY_2                       30000 non-null  int64\n",
      " 8   PAY_3                       30000 non-null  int64\n",
      " 9   PAY_4                       30000 non-null  int64\n",
      " 10  PAY_5                       30000 non-null  int64\n",
      " 11  PAY_6                       30000 non-null  int64\n",
      " 12  BILL_AMT1                   30000 non-null  int64\n",
      " 13  BILL_AMT2                   30000 non-null  int64\n",
      " 14  BILL_AMT3                   30000 non-null  int64\n",
      " 15  BILL_AMT4                   30000 non-null  int64\n",
      " 16  BILL_AMT5                   30000 non-null  int64\n",
      " 17  BILL_AMT6                   30000 non-null  int64\n",
      " 18  PAY_AMT1                    30000 non-null  int64\n",
      " 19  PAY_AMT2                    30000 non-null  int64\n",
      " 20  PAY_AMT3                    30000 non-null  int64\n",
      " 21  PAY_AMT4                    30000 non-null  int64\n",
      " 22  PAY_AMT5                    30000 non-null  int64\n",
      " 23  PAY_AMT6                    30000 non-null  int64\n",
      " 24  default payment next month  30000 non-null  int64\n",
      "dtypes: int64(25)\n",
      "memory usage: 5.7 MB\n"
     ]
    }
   ],
   "source": [
    "#melihat tipe data dari masing2 kolom\n",
    "df.info()"
   ]
  },
  {
   "cell_type": "code",
   "execution_count": 5,
   "metadata": {},
   "outputs": [
    {
     "data": {
      "text/html": [
       "<div>\n",
       "<style scoped>\n",
       "    .dataframe tbody tr th:only-of-type {\n",
       "        vertical-align: middle;\n",
       "    }\n",
       "\n",
       "    .dataframe tbody tr th {\n",
       "        vertical-align: top;\n",
       "    }\n",
       "\n",
       "    .dataframe thead th {\n",
       "        text-align: right;\n",
       "    }\n",
       "</style>\n",
       "<table border=\"1\" class=\"dataframe\">\n",
       "  <thead>\n",
       "    <tr style=\"text-align: right;\">\n",
       "      <th></th>\n",
       "      <th>ID</th>\n",
       "      <th>LIMIT_BAL</th>\n",
       "      <th>SEX</th>\n",
       "      <th>EDUCATION</th>\n",
       "      <th>MARRIAGE</th>\n",
       "      <th>AGE</th>\n",
       "      <th>PAY_0</th>\n",
       "      <th>PAY_2</th>\n",
       "      <th>PAY_3</th>\n",
       "      <th>PAY_4</th>\n",
       "      <th>...</th>\n",
       "      <th>BILL_AMT4</th>\n",
       "      <th>BILL_AMT5</th>\n",
       "      <th>BILL_AMT6</th>\n",
       "      <th>PAY_AMT1</th>\n",
       "      <th>PAY_AMT2</th>\n",
       "      <th>PAY_AMT3</th>\n",
       "      <th>PAY_AMT4</th>\n",
       "      <th>PAY_AMT5</th>\n",
       "      <th>PAY_AMT6</th>\n",
       "      <th>default payment next month</th>\n",
       "    </tr>\n",
       "  </thead>\n",
       "  <tbody>\n",
       "    <tr>\n",
       "      <th>count</th>\n",
       "      <td>30000.000000</td>\n",
       "      <td>30000.000000</td>\n",
       "      <td>30000.000000</td>\n",
       "      <td>30000.000000</td>\n",
       "      <td>30000.000000</td>\n",
       "      <td>30000.000000</td>\n",
       "      <td>30000.000000</td>\n",
       "      <td>30000.000000</td>\n",
       "      <td>30000.000000</td>\n",
       "      <td>30000.000000</td>\n",
       "      <td>...</td>\n",
       "      <td>30000.000000</td>\n",
       "      <td>30000.000000</td>\n",
       "      <td>30000.000000</td>\n",
       "      <td>30000.000000</td>\n",
       "      <td>3.000000e+04</td>\n",
       "      <td>30000.00000</td>\n",
       "      <td>30000.000000</td>\n",
       "      <td>30000.000000</td>\n",
       "      <td>30000.000000</td>\n",
       "      <td>30000.000000</td>\n",
       "    </tr>\n",
       "    <tr>\n",
       "      <th>mean</th>\n",
       "      <td>15000.500000</td>\n",
       "      <td>167484.322667</td>\n",
       "      <td>1.603733</td>\n",
       "      <td>1.853133</td>\n",
       "      <td>1.551867</td>\n",
       "      <td>35.485500</td>\n",
       "      <td>-0.016700</td>\n",
       "      <td>-0.133767</td>\n",
       "      <td>-0.166200</td>\n",
       "      <td>-0.220667</td>\n",
       "      <td>...</td>\n",
       "      <td>43262.948967</td>\n",
       "      <td>40311.400967</td>\n",
       "      <td>38871.760400</td>\n",
       "      <td>5663.580500</td>\n",
       "      <td>5.921163e+03</td>\n",
       "      <td>5225.68150</td>\n",
       "      <td>4826.076867</td>\n",
       "      <td>4799.387633</td>\n",
       "      <td>5215.502567</td>\n",
       "      <td>0.221200</td>\n",
       "    </tr>\n",
       "    <tr>\n",
       "      <th>std</th>\n",
       "      <td>8660.398374</td>\n",
       "      <td>129747.661567</td>\n",
       "      <td>0.489129</td>\n",
       "      <td>0.790349</td>\n",
       "      <td>0.521970</td>\n",
       "      <td>9.217904</td>\n",
       "      <td>1.123802</td>\n",
       "      <td>1.197186</td>\n",
       "      <td>1.196868</td>\n",
       "      <td>1.169139</td>\n",
       "      <td>...</td>\n",
       "      <td>64332.856134</td>\n",
       "      <td>60797.155770</td>\n",
       "      <td>59554.107537</td>\n",
       "      <td>16563.280354</td>\n",
       "      <td>2.304087e+04</td>\n",
       "      <td>17606.96147</td>\n",
       "      <td>15666.159744</td>\n",
       "      <td>15278.305679</td>\n",
       "      <td>17777.465775</td>\n",
       "      <td>0.415062</td>\n",
       "    </tr>\n",
       "    <tr>\n",
       "      <th>min</th>\n",
       "      <td>1.000000</td>\n",
       "      <td>10000.000000</td>\n",
       "      <td>1.000000</td>\n",
       "      <td>0.000000</td>\n",
       "      <td>0.000000</td>\n",
       "      <td>21.000000</td>\n",
       "      <td>-2.000000</td>\n",
       "      <td>-2.000000</td>\n",
       "      <td>-2.000000</td>\n",
       "      <td>-2.000000</td>\n",
       "      <td>...</td>\n",
       "      <td>-170000.000000</td>\n",
       "      <td>-81334.000000</td>\n",
       "      <td>-339603.000000</td>\n",
       "      <td>0.000000</td>\n",
       "      <td>0.000000e+00</td>\n",
       "      <td>0.00000</td>\n",
       "      <td>0.000000</td>\n",
       "      <td>0.000000</td>\n",
       "      <td>0.000000</td>\n",
       "      <td>0.000000</td>\n",
       "    </tr>\n",
       "    <tr>\n",
       "      <th>25%</th>\n",
       "      <td>7500.750000</td>\n",
       "      <td>50000.000000</td>\n",
       "      <td>1.000000</td>\n",
       "      <td>1.000000</td>\n",
       "      <td>1.000000</td>\n",
       "      <td>28.000000</td>\n",
       "      <td>-1.000000</td>\n",
       "      <td>-1.000000</td>\n",
       "      <td>-1.000000</td>\n",
       "      <td>-1.000000</td>\n",
       "      <td>...</td>\n",
       "      <td>2326.750000</td>\n",
       "      <td>1763.000000</td>\n",
       "      <td>1256.000000</td>\n",
       "      <td>1000.000000</td>\n",
       "      <td>8.330000e+02</td>\n",
       "      <td>390.00000</td>\n",
       "      <td>296.000000</td>\n",
       "      <td>252.500000</td>\n",
       "      <td>117.750000</td>\n",
       "      <td>0.000000</td>\n",
       "    </tr>\n",
       "    <tr>\n",
       "      <th>50%</th>\n",
       "      <td>15000.500000</td>\n",
       "      <td>140000.000000</td>\n",
       "      <td>2.000000</td>\n",
       "      <td>2.000000</td>\n",
       "      <td>2.000000</td>\n",
       "      <td>34.000000</td>\n",
       "      <td>0.000000</td>\n",
       "      <td>0.000000</td>\n",
       "      <td>0.000000</td>\n",
       "      <td>0.000000</td>\n",
       "      <td>...</td>\n",
       "      <td>19052.000000</td>\n",
       "      <td>18104.500000</td>\n",
       "      <td>17071.000000</td>\n",
       "      <td>2100.000000</td>\n",
       "      <td>2.009000e+03</td>\n",
       "      <td>1800.00000</td>\n",
       "      <td>1500.000000</td>\n",
       "      <td>1500.000000</td>\n",
       "      <td>1500.000000</td>\n",
       "      <td>0.000000</td>\n",
       "    </tr>\n",
       "    <tr>\n",
       "      <th>75%</th>\n",
       "      <td>22500.250000</td>\n",
       "      <td>240000.000000</td>\n",
       "      <td>2.000000</td>\n",
       "      <td>2.000000</td>\n",
       "      <td>2.000000</td>\n",
       "      <td>41.000000</td>\n",
       "      <td>0.000000</td>\n",
       "      <td>0.000000</td>\n",
       "      <td>0.000000</td>\n",
       "      <td>0.000000</td>\n",
       "      <td>...</td>\n",
       "      <td>54506.000000</td>\n",
       "      <td>50190.500000</td>\n",
       "      <td>49198.250000</td>\n",
       "      <td>5006.000000</td>\n",
       "      <td>5.000000e+03</td>\n",
       "      <td>4505.00000</td>\n",
       "      <td>4013.250000</td>\n",
       "      <td>4031.500000</td>\n",
       "      <td>4000.000000</td>\n",
       "      <td>0.000000</td>\n",
       "    </tr>\n",
       "    <tr>\n",
       "      <th>max</th>\n",
       "      <td>30000.000000</td>\n",
       "      <td>1000000.000000</td>\n",
       "      <td>2.000000</td>\n",
       "      <td>6.000000</td>\n",
       "      <td>3.000000</td>\n",
       "      <td>79.000000</td>\n",
       "      <td>8.000000</td>\n",
       "      <td>8.000000</td>\n",
       "      <td>8.000000</td>\n",
       "      <td>8.000000</td>\n",
       "      <td>...</td>\n",
       "      <td>891586.000000</td>\n",
       "      <td>927171.000000</td>\n",
       "      <td>961664.000000</td>\n",
       "      <td>873552.000000</td>\n",
       "      <td>1.684259e+06</td>\n",
       "      <td>896040.00000</td>\n",
       "      <td>621000.000000</td>\n",
       "      <td>426529.000000</td>\n",
       "      <td>528666.000000</td>\n",
       "      <td>1.000000</td>\n",
       "    </tr>\n",
       "  </tbody>\n",
       "</table>\n",
       "<p>8 rows × 25 columns</p>\n",
       "</div>"
      ],
      "text/plain": [
       "                 ID       LIMIT_BAL           SEX     EDUCATION      MARRIAGE  \\\n",
       "count  30000.000000    30000.000000  30000.000000  30000.000000  30000.000000   \n",
       "mean   15000.500000   167484.322667      1.603733      1.853133      1.551867   \n",
       "std     8660.398374   129747.661567      0.489129      0.790349      0.521970   \n",
       "min        1.000000    10000.000000      1.000000      0.000000      0.000000   \n",
       "25%     7500.750000    50000.000000      1.000000      1.000000      1.000000   \n",
       "50%    15000.500000   140000.000000      2.000000      2.000000      2.000000   \n",
       "75%    22500.250000   240000.000000      2.000000      2.000000      2.000000   \n",
       "max    30000.000000  1000000.000000      2.000000      6.000000      3.000000   \n",
       "\n",
       "                AGE         PAY_0         PAY_2         PAY_3         PAY_4  \\\n",
       "count  30000.000000  30000.000000  30000.000000  30000.000000  30000.000000   \n",
       "mean      35.485500     -0.016700     -0.133767     -0.166200     -0.220667   \n",
       "std        9.217904      1.123802      1.197186      1.196868      1.169139   \n",
       "min       21.000000     -2.000000     -2.000000     -2.000000     -2.000000   \n",
       "25%       28.000000     -1.000000     -1.000000     -1.000000     -1.000000   \n",
       "50%       34.000000      0.000000      0.000000      0.000000      0.000000   \n",
       "75%       41.000000      0.000000      0.000000      0.000000      0.000000   \n",
       "max       79.000000      8.000000      8.000000      8.000000      8.000000   \n",
       "\n",
       "       ...      BILL_AMT4      BILL_AMT5      BILL_AMT6       PAY_AMT1  \\\n",
       "count  ...   30000.000000   30000.000000   30000.000000   30000.000000   \n",
       "mean   ...   43262.948967   40311.400967   38871.760400    5663.580500   \n",
       "std    ...   64332.856134   60797.155770   59554.107537   16563.280354   \n",
       "min    ... -170000.000000  -81334.000000 -339603.000000       0.000000   \n",
       "25%    ...    2326.750000    1763.000000    1256.000000    1000.000000   \n",
       "50%    ...   19052.000000   18104.500000   17071.000000    2100.000000   \n",
       "75%    ...   54506.000000   50190.500000   49198.250000    5006.000000   \n",
       "max    ...  891586.000000  927171.000000  961664.000000  873552.000000   \n",
       "\n",
       "           PAY_AMT2      PAY_AMT3       PAY_AMT4       PAY_AMT5  \\\n",
       "count  3.000000e+04   30000.00000   30000.000000   30000.000000   \n",
       "mean   5.921163e+03    5225.68150    4826.076867    4799.387633   \n",
       "std    2.304087e+04   17606.96147   15666.159744   15278.305679   \n",
       "min    0.000000e+00       0.00000       0.000000       0.000000   \n",
       "25%    8.330000e+02     390.00000     296.000000     252.500000   \n",
       "50%    2.009000e+03    1800.00000    1500.000000    1500.000000   \n",
       "75%    5.000000e+03    4505.00000    4013.250000    4031.500000   \n",
       "max    1.684259e+06  896040.00000  621000.000000  426529.000000   \n",
       "\n",
       "            PAY_AMT6  default payment next month  \n",
       "count   30000.000000                30000.000000  \n",
       "mean     5215.502567                    0.221200  \n",
       "std     17777.465775                    0.415062  \n",
       "min         0.000000                    0.000000  \n",
       "25%       117.750000                    0.000000  \n",
       "50%      1500.000000                    0.000000  \n",
       "75%      4000.000000                    0.000000  \n",
       "max    528666.000000                    1.000000  \n",
       "\n",
       "[8 rows x 25 columns]"
      ]
     },
     "execution_count": 5,
     "metadata": {},
     "output_type": "execute_result"
    }
   ],
   "source": [
    "#Melihat deskripsi statistik dataset\n",
    "df.describe()"
   ]
  },
  {
   "cell_type": "code",
   "execution_count": 6,
   "metadata": {},
   "outputs": [],
   "source": [
    "#merename kolom target\n",
    "df.rename(columns={'default payment next month':'Target','PAY_0':'PAY_1'},inplace=True)"
   ]
  },
  {
   "cell_type": "code",
   "execution_count": 7,
   "metadata": {},
   "outputs": [
    {
     "data": {
      "text/html": [
       "<div>\n",
       "<style scoped>\n",
       "    .dataframe tbody tr th:only-of-type {\n",
       "        vertical-align: middle;\n",
       "    }\n",
       "\n",
       "    .dataframe tbody tr th {\n",
       "        vertical-align: top;\n",
       "    }\n",
       "\n",
       "    .dataframe thead th {\n",
       "        text-align: right;\n",
       "    }\n",
       "</style>\n",
       "<table border=\"1\" class=\"dataframe\">\n",
       "  <thead>\n",
       "    <tr style=\"text-align: right;\">\n",
       "      <th></th>\n",
       "      <th>Data Feature</th>\n",
       "      <th>Data Types</th>\n",
       "      <th>Null</th>\n",
       "      <th>Null Pct</th>\n",
       "      <th>Unique</th>\n",
       "      <th>Unique Sample</th>\n",
       "    </tr>\n",
       "  </thead>\n",
       "  <tbody>\n",
       "    <tr>\n",
       "      <th>0</th>\n",
       "      <td>ID</td>\n",
       "      <td>int64</td>\n",
       "      <td>0</td>\n",
       "      <td>0.0</td>\n",
       "      <td>30000</td>\n",
       "      <td>[25925, 8913]</td>\n",
       "    </tr>\n",
       "    <tr>\n",
       "      <th>1</th>\n",
       "      <td>LIMIT_BAL</td>\n",
       "      <td>int64</td>\n",
       "      <td>0</td>\n",
       "      <td>0.0</td>\n",
       "      <td>81</td>\n",
       "      <td>[560000, 40000]</td>\n",
       "    </tr>\n",
       "    <tr>\n",
       "      <th>2</th>\n",
       "      <td>SEX</td>\n",
       "      <td>int64</td>\n",
       "      <td>0</td>\n",
       "      <td>0.0</td>\n",
       "      <td>2</td>\n",
       "      <td>[1, 2]</td>\n",
       "    </tr>\n",
       "    <tr>\n",
       "      <th>3</th>\n",
       "      <td>EDUCATION</td>\n",
       "      <td>int64</td>\n",
       "      <td>0</td>\n",
       "      <td>0.0</td>\n",
       "      <td>7</td>\n",
       "      <td>[3, 1]</td>\n",
       "    </tr>\n",
       "    <tr>\n",
       "      <th>4</th>\n",
       "      <td>MARRIAGE</td>\n",
       "      <td>int64</td>\n",
       "      <td>0</td>\n",
       "      <td>0.0</td>\n",
       "      <td>4</td>\n",
       "      <td>[1, 3]</td>\n",
       "    </tr>\n",
       "    <tr>\n",
       "      <th>5</th>\n",
       "      <td>AGE</td>\n",
       "      <td>int64</td>\n",
       "      <td>0</td>\n",
       "      <td>0.0</td>\n",
       "      <td>56</td>\n",
       "      <td>[25, 56]</td>\n",
       "    </tr>\n",
       "    <tr>\n",
       "      <th>6</th>\n",
       "      <td>PAY_1</td>\n",
       "      <td>int64</td>\n",
       "      <td>0</td>\n",
       "      <td>0.0</td>\n",
       "      <td>11</td>\n",
       "      <td>[6, 7]</td>\n",
       "    </tr>\n",
       "    <tr>\n",
       "      <th>7</th>\n",
       "      <td>PAY_2</td>\n",
       "      <td>int64</td>\n",
       "      <td>0</td>\n",
       "      <td>0.0</td>\n",
       "      <td>11</td>\n",
       "      <td>[3, -1]</td>\n",
       "    </tr>\n",
       "    <tr>\n",
       "      <th>8</th>\n",
       "      <td>PAY_3</td>\n",
       "      <td>int64</td>\n",
       "      <td>0</td>\n",
       "      <td>0.0</td>\n",
       "      <td>11</td>\n",
       "      <td>[-1, 0]</td>\n",
       "    </tr>\n",
       "    <tr>\n",
       "      <th>9</th>\n",
       "      <td>PAY_4</td>\n",
       "      <td>int64</td>\n",
       "      <td>0</td>\n",
       "      <td>0.0</td>\n",
       "      <td>11</td>\n",
       "      <td>[8, -2]</td>\n",
       "    </tr>\n",
       "    <tr>\n",
       "      <th>10</th>\n",
       "      <td>PAY_5</td>\n",
       "      <td>int64</td>\n",
       "      <td>0</td>\n",
       "      <td>0.0</td>\n",
       "      <td>10</td>\n",
       "      <td>[5, -1]</td>\n",
       "    </tr>\n",
       "    <tr>\n",
       "      <th>11</th>\n",
       "      <td>PAY_6</td>\n",
       "      <td>int64</td>\n",
       "      <td>0</td>\n",
       "      <td>0.0</td>\n",
       "      <td>10</td>\n",
       "      <td>[-1, 0]</td>\n",
       "    </tr>\n",
       "    <tr>\n",
       "      <th>12</th>\n",
       "      <td>BILL_AMT1</td>\n",
       "      <td>int64</td>\n",
       "      <td>0</td>\n",
       "      <td>0.0</td>\n",
       "      <td>22723</td>\n",
       "      <td>[5644, 160161]</td>\n",
       "    </tr>\n",
       "    <tr>\n",
       "      <th>13</th>\n",
       "      <td>BILL_AMT2</td>\n",
       "      <td>int64</td>\n",
       "      <td>0</td>\n",
       "      <td>0.0</td>\n",
       "      <td>22346</td>\n",
       "      <td>[63201, 20084]</td>\n",
       "    </tr>\n",
       "    <tr>\n",
       "      <th>14</th>\n",
       "      <td>BILL_AMT3</td>\n",
       "      <td>int64</td>\n",
       "      <td>0</td>\n",
       "      <td>0.0</td>\n",
       "      <td>22026</td>\n",
       "      <td>[2698, 279728]</td>\n",
       "    </tr>\n",
       "    <tr>\n",
       "      <th>15</th>\n",
       "      <td>BILL_AMT4</td>\n",
       "      <td>int64</td>\n",
       "      <td>0</td>\n",
       "      <td>0.0</td>\n",
       "      <td>21548</td>\n",
       "      <td>[7830, 293046]</td>\n",
       "    </tr>\n",
       "    <tr>\n",
       "      <th>16</th>\n",
       "      <td>BILL_AMT5</td>\n",
       "      <td>int64</td>\n",
       "      <td>0</td>\n",
       "      <td>0.0</td>\n",
       "      <td>21010</td>\n",
       "      <td>[94428, 8478]</td>\n",
       "    </tr>\n",
       "    <tr>\n",
       "      <th>17</th>\n",
       "      <td>BILL_AMT6</td>\n",
       "      <td>int64</td>\n",
       "      <td>0</td>\n",
       "      <td>0.0</td>\n",
       "      <td>20604</td>\n",
       "      <td>[29476, 15156]</td>\n",
       "    </tr>\n",
       "    <tr>\n",
       "      <th>18</th>\n",
       "      <td>PAY_AMT1</td>\n",
       "      <td>int64</td>\n",
       "      <td>0</td>\n",
       "      <td>0.0</td>\n",
       "      <td>7943</td>\n",
       "      <td>[60043, 2330]</td>\n",
       "    </tr>\n",
       "    <tr>\n",
       "      <th>19</th>\n",
       "      <td>PAY_AMT2</td>\n",
       "      <td>int64</td>\n",
       "      <td>0</td>\n",
       "      <td>0.0</td>\n",
       "      <td>7899</td>\n",
       "      <td>[4915, 1198]</td>\n",
       "    </tr>\n",
       "    <tr>\n",
       "      <th>20</th>\n",
       "      <td>PAY_AMT3</td>\n",
       "      <td>int64</td>\n",
       "      <td>0</td>\n",
       "      <td>0.0</td>\n",
       "      <td>7518</td>\n",
       "      <td>[1364, 2090]</td>\n",
       "    </tr>\n",
       "    <tr>\n",
       "      <th>21</th>\n",
       "      <td>PAY_AMT4</td>\n",
       "      <td>int64</td>\n",
       "      <td>0</td>\n",
       "      <td>0.0</td>\n",
       "      <td>6937</td>\n",
       "      <td>[48012, 3042]</td>\n",
       "    </tr>\n",
       "    <tr>\n",
       "      <th>22</th>\n",
       "      <td>PAY_AMT5</td>\n",
       "      <td>int64</td>\n",
       "      <td>0</td>\n",
       "      <td>0.0</td>\n",
       "      <td>6897</td>\n",
       "      <td>[148, 6002]</td>\n",
       "    </tr>\n",
       "    <tr>\n",
       "      <th>23</th>\n",
       "      <td>PAY_AMT6</td>\n",
       "      <td>int64</td>\n",
       "      <td>0</td>\n",
       "      <td>0.0</td>\n",
       "      <td>6939</td>\n",
       "      <td>[20261, 4868]</td>\n",
       "    </tr>\n",
       "    <tr>\n",
       "      <th>24</th>\n",
       "      <td>Target</td>\n",
       "      <td>int64</td>\n",
       "      <td>0</td>\n",
       "      <td>0.0</td>\n",
       "      <td>2</td>\n",
       "      <td>[1, 0]</td>\n",
       "    </tr>\n",
       "  </tbody>\n",
       "</table>\n",
       "</div>"
      ],
      "text/plain": [
       "   Data Feature Data Types  Null  Null Pct  Unique    Unique Sample\n",
       "0            ID      int64     0       0.0   30000    [25925, 8913]\n",
       "1     LIMIT_BAL      int64     0       0.0      81  [560000, 40000]\n",
       "2           SEX      int64     0       0.0       2           [1, 2]\n",
       "3     EDUCATION      int64     0       0.0       7           [3, 1]\n",
       "4      MARRIAGE      int64     0       0.0       4           [1, 3]\n",
       "5           AGE      int64     0       0.0      56         [25, 56]\n",
       "6         PAY_1      int64     0       0.0      11           [6, 7]\n",
       "7         PAY_2      int64     0       0.0      11          [3, -1]\n",
       "8         PAY_3      int64     0       0.0      11          [-1, 0]\n",
       "9         PAY_4      int64     0       0.0      11          [8, -2]\n",
       "10        PAY_5      int64     0       0.0      10          [5, -1]\n",
       "11        PAY_6      int64     0       0.0      10          [-1, 0]\n",
       "12    BILL_AMT1      int64     0       0.0   22723   [5644, 160161]\n",
       "13    BILL_AMT2      int64     0       0.0   22346   [63201, 20084]\n",
       "14    BILL_AMT3      int64     0       0.0   22026   [2698, 279728]\n",
       "15    BILL_AMT4      int64     0       0.0   21548   [7830, 293046]\n",
       "16    BILL_AMT5      int64     0       0.0   21010    [94428, 8478]\n",
       "17    BILL_AMT6      int64     0       0.0   20604   [29476, 15156]\n",
       "18     PAY_AMT1      int64     0       0.0    7943    [60043, 2330]\n",
       "19     PAY_AMT2      int64     0       0.0    7899     [4915, 1198]\n",
       "20     PAY_AMT3      int64     0       0.0    7518     [1364, 2090]\n",
       "21     PAY_AMT4      int64     0       0.0    6937    [48012, 3042]\n",
       "22     PAY_AMT5      int64     0       0.0    6897      [148, 6002]\n",
       "23     PAY_AMT6      int64     0       0.0    6939    [20261, 4868]\n",
       "24       Target      int64     0       0.0       2           [1, 0]"
      ]
     },
     "execution_count": 7,
     "metadata": {},
     "output_type": "execute_result"
    }
   ],
   "source": [
    "#melihat unique sample masing2 kolom\n",
    "cc = []\n",
    "for i in df.columns:\n",
    "    cc.append([\n",
    "        i,\n",
    "        df[i].dtypes,\n",
    "        df[i].isna().sum(),\n",
    "        (((df[i].isna().sum()) / len(df)) * 100).round(2),\n",
    "        df[i].nunique(),\n",
    "        df[i].drop_duplicates().sample(2).values\n",
    "    ])\n",
    "\n",
    "pd.DataFrame(data = cc, columns= [\n",
    "    'Data Feature',\n",
    "    'Data Types',\n",
    "    'Null',\n",
    "    'Null Pct',\n",
    "    'Unique',\n",
    "    'Unique Sample'\n",
    "] )"
   ]
  },
  {
   "cell_type": "markdown",
   "metadata": {},
   "source": [
    "#### tidak ada missing value"
   ]
  },
  {
   "cell_type": "markdown",
   "metadata": {},
   "source": [
    "## Cek Outliers / Data abnormal"
   ]
  },
  {
   "cell_type": "code",
   "execution_count": 8,
   "metadata": {},
   "outputs": [
    {
     "data": {
      "text/plain": [
       "<Figure size 1080x720 with 0 Axes>"
      ]
     },
     "metadata": {},
     "output_type": "display_data"
    },
    {
     "data": {
      "image/png": "[encoded data removed]",
      "text/plain": [
       "<Figure size 864x1008 with 25 Axes>"
      ]
     },
     "metadata": {
      "needs_background": "light"
     },
     "output_type": "display_data"
    }
   ],
   "source": [
    "# subplots\n",
    "plt.figure(figsize=(15,10))\n",
    "df.plot(subplots=True, layout=(5,5), kind='box', figsize=(12,14), patch_artist=True)\n",
    "plt.subplots_adjust(wspace=0.5);\n",
    "plt.show()"
   ]
  },
  {
   "cell_type": "code",
   "execution_count": 9,
   "metadata": {},
   "outputs": [
    {
     "data": {
      "text/plain": [
       "10000"
      ]
     },
     "execution_count": 9,
     "metadata": {},
     "output_type": "execute_result"
    }
   ],
   "source": [
    "df['LIMIT_BAL'].min()"
   ]
  },
  {
   "cell_type": "code",
   "execution_count": 10,
   "metadata": {},
   "outputs": [
    {
     "data": {
      "text/plain": [
       "array([2, 1, 3, 5, 4, 6, 0], dtype=int64)"
      ]
     },
     "execution_count": 10,
     "metadata": {},
     "output_type": "execute_result"
    }
   ],
   "source": [
    "# melihat data abnormal pada masing2 kolom\n",
    "# education(1:graduate school, 2:university, 3: high school, 4:others)\n",
    "df['EDUCATION'].unique()\n",
    "#0,5,6 abnormal\n"
   ]
  },
  {
   "cell_type": "code",
   "execution_count": 11,
   "metadata": {},
   "outputs": [
    {
     "data": {
      "text/plain": [
       "array([2, 1, 3, 4], dtype=int64)"
      ]
     },
     "execution_count": 11,
     "metadata": {},
     "output_type": "execute_result"
    }
   ],
   "source": [
    "##menganmbil data selain 0,5 dan 6\n",
    "df = df[(df['EDUCATION']!=0 ) & (df['EDUCATION']!=5 ) & (df['EDUCATION']!=6)]\n",
    "df['EDUCATION'].unique()"
   ]
  },
  {
   "cell_type": "code",
   "execution_count": 12,
   "metadata": {},
   "outputs": [
    {
     "data": {
      "text/plain": [
       "array([1, 2, 3, 0], dtype=int64)"
      ]
     },
     "execution_count": 12,
     "metadata": {},
     "output_type": "execute_result"
    }
   ],
   "source": [
    "# melihat data abnormal pada masing2 kolom\n",
    "# marital status(1:married,2:single,3: others)\n",
    "df['MARRIAGE'].unique()\n",
    "#0\n"
   ]
  },
  {
   "cell_type": "code",
   "execution_count": 13,
   "metadata": {},
   "outputs": [
    {
     "data": {
      "text/plain": [
       "array([1, 2, 3], dtype=int64)"
      ]
     },
     "execution_count": 13,
     "metadata": {},
     "output_type": "execute_result"
    }
   ],
   "source": [
    "##menganmbil data selain 0\n",
    "df = df[df['MARRIAGE']!=0]\n",
    "df['MARRIAGE'].unique()"
   ]
  },
  {
   "cell_type": "code",
   "execution_count": 14,
   "metadata": {},
   "outputs": [
    {
     "data": {
      "text/plain": [
       "array([ 2, -1,  0, -2,  1,  3,  4,  8,  7,  5,  6], dtype=int64)"
      ]
     },
     "execution_count": 14,
     "metadata": {},
     "output_type": "execute_result"
    }
   ],
   "source": [
    "# melihat data abnormal pada masing2 kolom\n",
    "# -1 :pay duly (membayar lunas), 0 :gada tunggakan , 1 : delay 1 bulan, 2: delay 2 bulan\n",
    "df['PAY_1'].unique()\n",
    "#-2 abnormal\n"
   ]
  },
  {
   "cell_type": "code",
   "execution_count": 15,
   "metadata": {},
   "outputs": [
    {
     "data": {
      "text/plain": [
       "array([ 2,  0, -1,  3,  6,  4,  7,  8,  5], dtype=int64)"
      ]
     },
     "execution_count": 15,
     "metadata": {},
     "output_type": "execute_result"
    }
   ],
   "source": [
    "##menganmbil data selain -2\n",
    "df = df[(df['PAY_1']!=-2)]\n",
    "df = df[(df['PAY_2']!=-2)]\n",
    "df = df[(df['PAY_3']!=-2)]\n",
    "df = df[(df['PAY_4']!=-2)]\n",
    "df = df[(df['PAY_5']!=-2)]\n",
    "df = df[(df['PAY_6']!=-2)]\n",
    "df['PAY_6'].unique()"
   ]
  },
  {
   "cell_type": "code",
   "execution_count": 16,
   "metadata": {},
   "outputs": [],
   "source": [
    "# melihat data abnormal pada masing2 kolom\n",
    "# bill_amt : amount of bill statement (jumlah tagihan)\n",
    "df= df[df['BILL_AMT1']>=0]\n",
    "df= df[df['BILL_AMT2']>=0]\n",
    "df= df[df['BILL_AMT3']>=0]\n",
    "df= df[df['BILL_AMT4']>=0]\n",
    "df= df[df['BILL_AMT5']>=0]\n",
    "df= df[df['BILL_AMT6']>=0]\n",
    "# dibawah 0 adalah abnormal\n"
   ]
  },
  {
   "cell_type": "code",
   "execution_count": 17,
   "metadata": {},
   "outputs": [
    {
     "data": {
      "text/plain": [
       "<Figure size 1080x720 with 0 Axes>"
      ]
     },
     "metadata": {},
     "output_type": "display_data"
    },
    {
     "data": {
      "image/png": "[encoded data removed]",
      "text/plain": [
       "<Figure size 864x1008 with 25 Axes>"
      ]
     },
     "metadata": {
      "needs_background": "light"
     },
     "output_type": "display_data"
    }
   ],
   "source": [
    "# subplots\n",
    "plt.figure(figsize=(15,10))\n",
    "df.plot(subplots=True, layout=(5,5), kind='box', figsize=(12,14), patch_artist=True)\n",
    "plt.subplots_adjust(wspace=0.5);\n",
    "plt.show()"
   ]
  },
  {
   "cell_type": "markdown",
   "metadata": {},
   "source": [
    "## Cek Imbalance dataset"
   ]
  },
  {
   "cell_type": "code",
   "execution_count": 18,
   "metadata": {},
   "outputs": [
    {
     "data": {
      "text/plain": [
       "0    0.766333\n",
       "1    0.233667\n",
       "Name: Target, dtype: float64"
      ]
     },
     "execution_count": 18,
     "metadata": {},
     "output_type": "execute_result"
    }
   ],
   "source": [
    "## melihat komposisi kolom feature target\n",
    "df['Target'].value_counts()/len(df)"
   ]
  },
  {
   "cell_type": "markdown",
   "metadata": {},
   "source": [
    "##### Dapat dipastikan bahwa dataset ini merupakan dataset detektor yang diperuntukkan mencari nasabah yang 'default payment' bulan depan, atau menunggak bulan depan. Sehingga yang menjadi concern dari model data ini adalah True Positif (1), dan menurunkan data yang diprediksi tidak menunggak, padahal aktualnya menunggak (false negatif). Parameter yang diperhatikan adalah recall poisitf(1) dan f1-score\n"
   ]
  },
  {
   "cell_type": "code",
   "execution_count": 19,
   "metadata": {},
   "outputs": [],
   "source": [
    "#menghapus kolom ID\n",
    "del df['ID']"
   ]
  },
  {
   "cell_type": "code",
   "execution_count": 20,
   "metadata": {},
   "outputs": [
    {
     "data": {
      "text/plain": [
       "(22455, 24)"
      ]
     },
     "execution_count": 20,
     "metadata": {},
     "output_type": "execute_result"
    }
   ],
   "source": [
    "#melihat jumlah baris dan kolom\n",
    "df.shape"
   ]
  },
  {
   "cell_type": "markdown",
   "metadata": {},
   "source": [
    "# Exploratory Data Analysis (EDA)"
   ]
  },
  {
   "cell_type": "code",
   "execution_count": 29,
   "metadata": {},
   "outputs": [
    {
     "data": {
      "image/png": "[encoded data removed]",
      "text/plain": [
       "<Figure size 432x288 with 1 Axes>"
      ]
     },
     "metadata": {
      "needs_background": "light"
     },
     "output_type": "display_data"
    }
   ],
   "source": [
    "sns.distplot(df['LIMIT_BAL'],bins=10)\n",
    "plt.show()"
   ]
  },
  {
   "cell_type": "markdown",
   "metadata": {},
   "source": [
    "##### Insight :\n",
    "- Pengguna Credit Card bank ini memiliki limit balance paling banyak disekitar 10K-200k"
   ]
  },
  {
   "cell_type": "code",
   "execution_count": 58,
   "metadata": {},
   "outputs": [
    {
     "data": {
      "image/png": "[encoded data removed]",
      "text/plain": [
       "<Figure size 432x288 with 1 Axes>"
      ]
     },
     "metadata": {
      "needs_background": "light"
     },
     "output_type": "display_data"
    }
   ],
   "source": [
    "sns.distplot(df['AGE'],bins=10)\n",
    "plt.show()"
   ]
  },
  {
   "cell_type": "markdown",
   "metadata": {},
   "source": [
    "##### insight:\n",
    "- Pengguna credit card dari bank ini mayoritas berusia 20-40 tahun"
   ]
  },
  {
   "cell_type": "code",
   "execution_count": 30,
   "metadata": {},
   "outputs": [
    {
     "data": {
      "text/html": [
       "<div>\n",
       "<style scoped>\n",
       "    .dataframe tbody tr th:only-of-type {\n",
       "        vertical-align: middle;\n",
       "    }\n",
       "\n",
       "    .dataframe tbody tr th {\n",
       "        vertical-align: top;\n",
       "    }\n",
       "\n",
       "    .dataframe thead th {\n",
       "        text-align: right;\n",
       "    }\n",
       "</style>\n",
       "<table border=\"1\" class=\"dataframe\">\n",
       "  <thead>\n",
       "    <tr style=\"text-align: right;\">\n",
       "      <th>Target</th>\n",
       "      <th>0</th>\n",
       "      <th>1</th>\n",
       "      <th>All</th>\n",
       "    </tr>\n",
       "    <tr>\n",
       "      <th>MARRIAGE</th>\n",
       "      <th></th>\n",
       "      <th></th>\n",
       "      <th></th>\n",
       "    </tr>\n",
       "  </thead>\n",
       "  <tbody>\n",
       "    <tr>\n",
       "      <th>1</th>\n",
       "      <td>7523</td>\n",
       "      <td>2508</td>\n",
       "      <td>10031</td>\n",
       "    </tr>\n",
       "    <tr>\n",
       "      <th>2</th>\n",
       "      <td>9497</td>\n",
       "      <td>2666</td>\n",
       "      <td>12163</td>\n",
       "    </tr>\n",
       "    <tr>\n",
       "      <th>3</th>\n",
       "      <td>188</td>\n",
       "      <td>73</td>\n",
       "      <td>261</td>\n",
       "    </tr>\n",
       "    <tr>\n",
       "      <th>All</th>\n",
       "      <td>17208</td>\n",
       "      <td>5247</td>\n",
       "      <td>22455</td>\n",
       "    </tr>\n",
       "  </tbody>\n",
       "</table>\n",
       "</div>"
      ],
      "text/plain": [
       "Target        0     1    All\n",
       "MARRIAGE                    \n",
       "1          7523  2508  10031\n",
       "2          9497  2666  12163\n",
       "3           188    73    261\n",
       "All       17208  5247  22455"
      ]
     },
     "execution_count": 30,
     "metadata": {},
     "output_type": "execute_result"
    }
   ],
   "source": [
    "pd.crosstab(index=df['MARRIAGE'], columns=df['Target'], margins='all')"
   ]
  },
  {
   "cell_type": "code",
   "execution_count": 45,
   "metadata": {},
   "outputs": [
    {
     "data": {
      "text/html": [
       "<div>\n",
       "<style scoped>\n",
       "    .dataframe tbody tr th:only-of-type {\n",
       "        vertical-align: middle;\n",
       "    }\n",
       "\n",
       "    .dataframe tbody tr th {\n",
       "        vertical-align: top;\n",
       "    }\n",
       "\n",
       "    .dataframe thead th {\n",
       "        text-align: right;\n",
       "    }\n",
       "</style>\n",
       "<table border=\"1\" class=\"dataframe\">\n",
       "  <thead>\n",
       "    <tr style=\"text-align: right;\">\n",
       "      <th></th>\n",
       "      <th>Target</th>\n",
       "      <th>0</th>\n",
       "      <th>1</th>\n",
       "      <th>All</th>\n",
       "    </tr>\n",
       "    <tr>\n",
       "      <th>MARRIAGE</th>\n",
       "      <th>SEX</th>\n",
       "      <th></th>\n",
       "      <th></th>\n",
       "      <th></th>\n",
       "    </tr>\n",
       "  </thead>\n",
       "  <tbody>\n",
       "    <tr>\n",
       "      <th rowspan=\"2\" valign=\"top\">1</th>\n",
       "      <th>1</th>\n",
       "      <td>0.126163</td>\n",
       "      <td>0.047384</td>\n",
       "      <td>0.173547</td>\n",
       "    </tr>\n",
       "    <tr>\n",
       "      <th>2</th>\n",
       "      <td>0.208862</td>\n",
       "      <td>0.064306</td>\n",
       "      <td>0.273169</td>\n",
       "    </tr>\n",
       "    <tr>\n",
       "      <th rowspan=\"2\" valign=\"top\">2</th>\n",
       "      <th>1</th>\n",
       "      <td>0.174304</td>\n",
       "      <td>0.054643</td>\n",
       "      <td>0.228947</td>\n",
       "    </tr>\n",
       "    <tr>\n",
       "      <th>2</th>\n",
       "      <td>0.248631</td>\n",
       "      <td>0.064084</td>\n",
       "      <td>0.312714</td>\n",
       "    </tr>\n",
       "    <tr>\n",
       "      <th rowspan=\"2\" valign=\"top\">3</th>\n",
       "      <th>1</th>\n",
       "      <td>0.003295</td>\n",
       "      <td>0.001559</td>\n",
       "      <td>0.004854</td>\n",
       "    </tr>\n",
       "    <tr>\n",
       "      <th>2</th>\n",
       "      <td>0.005077</td>\n",
       "      <td>0.001692</td>\n",
       "      <td>0.006769</td>\n",
       "    </tr>\n",
       "    <tr>\n",
       "      <th>All</th>\n",
       "      <th></th>\n",
       "      <td>0.766333</td>\n",
       "      <td>0.233667</td>\n",
       "      <td>1.000000</td>\n",
       "    </tr>\n",
       "  </tbody>\n",
       "</table>\n",
       "</div>"
      ],
      "text/plain": [
       "Target               0         1       All\n",
       "MARRIAGE SEX                              \n",
       "1        1    0.126163  0.047384  0.173547\n",
       "         2    0.208862  0.064306  0.273169\n",
       "2        1    0.174304  0.054643  0.228947\n",
       "         2    0.248631  0.064084  0.312714\n",
       "3        1    0.003295  0.001559  0.004854\n",
       "         2    0.005077  0.001692  0.006769\n",
       "All           0.766333  0.233667  1.000000"
      ]
     },
     "execution_count": 45,
     "metadata": {},
     "output_type": "execute_result"
    }
   ],
   "source": [
    "pd.crosstab(index=[df['MARRIAGE'],df['SEX']], columns=df['Target'],margins=True,normalize=True)"
   ]
  },
  {
   "cell_type": "markdown",
   "metadata": {},
   "source": [
    "##### insight \n",
    "- Pengguna cc ini mayoritas berstatus single dan bergender female"
   ]
  },
  {
   "cell_type": "code",
   "execution_count": 41,
   "metadata": {},
   "outputs": [
    {
     "data": {
      "text/html": [
       "<div>\n",
       "<style scoped>\n",
       "    .dataframe tbody tr th:only-of-type {\n",
       "        vertical-align: middle;\n",
       "    }\n",
       "\n",
       "    .dataframe tbody tr th {\n",
       "        vertical-align: top;\n",
       "    }\n",
       "\n",
       "    .dataframe thead th {\n",
       "        text-align: right;\n",
       "    }\n",
       "</style>\n",
       "<table border=\"1\" class=\"dataframe\">\n",
       "  <thead>\n",
       "    <tr style=\"text-align: right;\">\n",
       "      <th>Target</th>\n",
       "      <th>0</th>\n",
       "      <th>1</th>\n",
       "      <th>All</th>\n",
       "    </tr>\n",
       "    <tr>\n",
       "      <th>EDUCATION</th>\n",
       "      <th></th>\n",
       "      <th></th>\n",
       "      <th></th>\n",
       "    </tr>\n",
       "  </thead>\n",
       "  <tbody>\n",
       "    <tr>\n",
       "      <th>1</th>\n",
       "      <td>0.259898</td>\n",
       "      <td>0.063950</td>\n",
       "      <td>0.323848</td>\n",
       "    </tr>\n",
       "    <tr>\n",
       "      <th>2</th>\n",
       "      <td>0.375462</td>\n",
       "      <td>0.124471</td>\n",
       "      <td>0.499933</td>\n",
       "    </tr>\n",
       "    <tr>\n",
       "      <th>3</th>\n",
       "      <td>0.128034</td>\n",
       "      <td>0.045112</td>\n",
       "      <td>0.173146</td>\n",
       "    </tr>\n",
       "    <tr>\n",
       "      <th>4</th>\n",
       "      <td>0.002939</td>\n",
       "      <td>0.000134</td>\n",
       "      <td>0.003073</td>\n",
       "    </tr>\n",
       "    <tr>\n",
       "      <th>All</th>\n",
       "      <td>0.766333</td>\n",
       "      <td>0.233667</td>\n",
       "      <td>1.000000</td>\n",
       "    </tr>\n",
       "  </tbody>\n",
       "</table>\n",
       "</div>"
      ],
      "text/plain": [
       "Target            0         1       All\n",
       "EDUCATION                              \n",
       "1          0.259898  0.063950  0.323848\n",
       "2          0.375462  0.124471  0.499933\n",
       "3          0.128034  0.045112  0.173146\n",
       "4          0.002939  0.000134  0.003073\n",
       "All        0.766333  0.233667  1.000000"
      ]
     },
     "execution_count": 41,
     "metadata": {},
     "output_type": "execute_result"
    }
   ],
   "source": [
    "pd.crosstab(index=df['EDUCATION'], columns=df['Target'],normalize=True,margins=True)"
   ]
  },
  {
   "cell_type": "markdown",
   "metadata": {},
   "source": [
    "##### insight \n",
    "- Pengguna credit card ini mayoritas memiliki latar belakang lulusan University"
   ]
  },
  {
   "cell_type": "code",
   "execution_count": 25,
   "metadata": {},
   "outputs": [
    {
     "data": {
      "text/html": [
       "<div>\n",
       "<style scoped>\n",
       "    .dataframe tbody tr th:only-of-type {\n",
       "        vertical-align: middle;\n",
       "    }\n",
       "\n",
       "    .dataframe tbody tr th {\n",
       "        vertical-align: top;\n",
       "    }\n",
       "\n",
       "    .dataframe thead th {\n",
       "        text-align: right;\n",
       "    }\n",
       "</style>\n",
       "<table border=\"1\" class=\"dataframe\">\n",
       "  <thead>\n",
       "    <tr style=\"text-align: right;\">\n",
       "      <th>Target</th>\n",
       "      <th>0</th>\n",
       "      <th>1</th>\n",
       "    </tr>\n",
       "    <tr>\n",
       "      <th>SEX</th>\n",
       "      <th></th>\n",
       "      <th></th>\n",
       "    </tr>\n",
       "  </thead>\n",
       "  <tbody>\n",
       "    <tr>\n",
       "      <th>1</th>\n",
       "      <td>6821</td>\n",
       "      <td>2326</td>\n",
       "    </tr>\n",
       "    <tr>\n",
       "      <th>2</th>\n",
       "      <td>10387</td>\n",
       "      <td>2921</td>\n",
       "    </tr>\n",
       "  </tbody>\n",
       "</table>\n",
       "</div>"
      ],
      "text/plain": [
       "Target      0     1\n",
       "SEX                \n",
       "1        6821  2326\n",
       "2       10387  2921"
      ]
     },
     "execution_count": 25,
     "metadata": {},
     "output_type": "execute_result"
    }
   ],
   "source": [
    "pd.crosstab(index=df['SEX'], columns=df['Target'])"
   ]
  },
  {
   "cell_type": "markdown",
   "metadata": {},
   "source": [
    "##### insight \n",
    "- Pengguna credit card ini mayoritas bergender perempuan\n"
   ]
  },
  {
   "cell_type": "code",
   "execution_count": 26,
   "metadata": {},
   "outputs": [
    {
     "data": {
      "text/plain": [
       "Index(['LIMIT_BAL', 'SEX', 'EDUCATION', 'MARRIAGE', 'AGE', 'PAY_1', 'PAY_2',\n",
       "       'PAY_3', 'PAY_4', 'PAY_5', 'PAY_6', 'BILL_AMT1', 'BILL_AMT2',\n",
       "       'BILL_AMT3', 'BILL_AMT4', 'BILL_AMT5', 'BILL_AMT6', 'PAY_AMT1',\n",
       "       'PAY_AMT2', 'PAY_AMT3', 'PAY_AMT4', 'PAY_AMT5', 'PAY_AMT6', 'Target'],\n",
       "      dtype='object')"
      ]
     },
     "execution_count": 26,
     "metadata": {},
     "output_type": "execute_result"
    }
   ],
   "source": [
    "df.columns"
   ]
  },
  {
   "cell_type": "code",
   "execution_count": 52,
   "metadata": {},
   "outputs": [
    {
     "data": {
      "text/html": [
       "<div>\n",
       "<style scoped>\n",
       "    .dataframe tbody tr th:only-of-type {\n",
       "        vertical-align: middle;\n",
       "    }\n",
       "\n",
       "    .dataframe tbody tr th {\n",
       "        vertical-align: top;\n",
       "    }\n",
       "\n",
       "    .dataframe thead tr th {\n",
       "        text-align: left;\n",
       "    }\n",
       "\n",
       "    .dataframe thead tr:last-of-type th {\n",
       "        text-align: right;\n",
       "    }\n",
       "</style>\n",
       "<table border=\"1\" class=\"dataframe\">\n",
       "  <thead>\n",
       "    <tr>\n",
       "      <th></th>\n",
       "      <th></th>\n",
       "      <th colspan=\"2\" halign=\"left\">BILL_AMT1</th>\n",
       "      <th colspan=\"2\" halign=\"left\">BILL_AMT2</th>\n",
       "      <th colspan=\"2\" halign=\"left\">BILL_AMT3</th>\n",
       "      <th colspan=\"2\" halign=\"left\">BILL_AMT4</th>\n",
       "      <th colspan=\"2\" halign=\"left\">BILL_AMT5</th>\n",
       "      <th colspan=\"2\" halign=\"left\">BILL_AMT6</th>\n",
       "    </tr>\n",
       "    <tr>\n",
       "      <th></th>\n",
       "      <th></th>\n",
       "      <th>mean</th>\n",
       "      <th>max</th>\n",
       "      <th>mean</th>\n",
       "      <th>max</th>\n",
       "      <th>mean</th>\n",
       "      <th>max</th>\n",
       "      <th>mean</th>\n",
       "      <th>max</th>\n",
       "      <th>mean</th>\n",
       "      <th>max</th>\n",
       "      <th>mean</th>\n",
       "      <th>max</th>\n",
       "    </tr>\n",
       "    <tr>\n",
       "      <th>Target</th>\n",
       "      <th>SEX</th>\n",
       "      <th></th>\n",
       "      <th></th>\n",
       "      <th></th>\n",
       "      <th></th>\n",
       "      <th></th>\n",
       "      <th></th>\n",
       "      <th></th>\n",
       "      <th></th>\n",
       "      <th></th>\n",
       "      <th></th>\n",
       "      <th></th>\n",
       "      <th></th>\n",
       "    </tr>\n",
       "  </thead>\n",
       "  <tbody>\n",
       "    <tr>\n",
       "      <th rowspan=\"2\" valign=\"top\">0</th>\n",
       "      <th>1</th>\n",
       "      <td>66093.11</td>\n",
       "      <td>746814</td>\n",
       "      <td>63797.48</td>\n",
       "      <td>646770</td>\n",
       "      <td>60848.43</td>\n",
       "      <td>693131</td>\n",
       "      <td>56293.49</td>\n",
       "      <td>628699</td>\n",
       "      <td>52036.60</td>\n",
       "      <td>823540</td>\n",
       "      <td>50207.00</td>\n",
       "      <td>699944</td>\n",
       "    </tr>\n",
       "    <tr>\n",
       "      <th>2</th>\n",
       "      <td>62621.59</td>\n",
       "      <td>964511</td>\n",
       "      <td>60845.73</td>\n",
       "      <td>983931</td>\n",
       "      <td>58585.18</td>\n",
       "      <td>689627</td>\n",
       "      <td>54448.31</td>\n",
       "      <td>891586</td>\n",
       "      <td>50992.17</td>\n",
       "      <td>927171</td>\n",
       "      <td>49081.78</td>\n",
       "      <td>961664</td>\n",
       "    </tr>\n",
       "    <tr>\n",
       "      <th rowspan=\"2\" valign=\"top\">1</th>\n",
       "      <th>1</th>\n",
       "      <td>57962.92</td>\n",
       "      <td>613860</td>\n",
       "      <td>57206.37</td>\n",
       "      <td>572834</td>\n",
       "      <td>54888.43</td>\n",
       "      <td>519267</td>\n",
       "      <td>51770.80</td>\n",
       "      <td>518741</td>\n",
       "      <td>49189.64</td>\n",
       "      <td>547880</td>\n",
       "      <td>47840.12</td>\n",
       "      <td>514975</td>\n",
       "    </tr>\n",
       "    <tr>\n",
       "      <th>2</th>\n",
       "      <td>56994.97</td>\n",
       "      <td>589654</td>\n",
       "      <td>56488.38</td>\n",
       "      <td>581775</td>\n",
       "      <td>54931.11</td>\n",
       "      <td>578971</td>\n",
       "      <td>51557.21</td>\n",
       "      <td>548020</td>\n",
       "      <td>48528.24</td>\n",
       "      <td>530672</td>\n",
       "      <td>46603.73</td>\n",
       "      <td>498316</td>\n",
       "    </tr>\n",
       "  </tbody>\n",
       "</table>\n",
       "</div>"
      ],
      "text/plain": [
       "           BILL_AMT1         BILL_AMT2         BILL_AMT3         BILL_AMT4  \\\n",
       "                mean     max      mean     max      mean     max      mean   \n",
       "Target SEX                                                                   \n",
       "0      1    66093.11  746814  63797.48  646770  60848.43  693131  56293.49   \n",
       "       2    62621.59  964511  60845.73  983931  58585.18  689627  54448.31   \n",
       "1      1    57962.92  613860  57206.37  572834  54888.43  519267  51770.80   \n",
       "       2    56994.97  589654  56488.38  581775  54931.11  578971  51557.21   \n",
       "\n",
       "                   BILL_AMT5         BILL_AMT6          \n",
       "               max      mean     max      mean     max  \n",
       "Target SEX                                              \n",
       "0      1    628699  52036.60  823540  50207.00  699944  \n",
       "       2    891586  50992.17  927171  49081.78  961664  \n",
       "1      1    518741  49189.64  547880  47840.12  514975  \n",
       "       2    548020  48528.24  530672  46603.73  498316  "
      ]
     },
     "execution_count": 52,
     "metadata": {},
     "output_type": "execute_result"
    }
   ],
   "source": [
    "df.groupby(['Target','SEX']).agg({'BILL_AMT1':('mean','max'),'BILL_AMT2':('mean','max'),'BILL_AMT3':('mean','max'),'BILL_AMT4':('mean','max'),'BILL_AMT5':('mean','max'),'BILL_AMT6':('mean','max')}).round(2)"
   ]
  },
  {
   "cell_type": "code",
   "execution_count": 54,
   "metadata": {},
   "outputs": [
    {
     "data": {
      "text/html": [
       "<div>\n",
       "<style scoped>\n",
       "    .dataframe tbody tr th:only-of-type {\n",
       "        vertical-align: middle;\n",
       "    }\n",
       "\n",
       "    .dataframe tbody tr th {\n",
       "        vertical-align: top;\n",
       "    }\n",
       "\n",
       "    .dataframe thead th {\n",
       "        text-align: right;\n",
       "    }\n",
       "</style>\n",
       "<table border=\"1\" class=\"dataframe\">\n",
       "  <thead>\n",
       "    <tr style=\"text-align: right;\">\n",
       "      <th></th>\n",
       "      <th></th>\n",
       "      <th>LIMIT_BAL</th>\n",
       "    </tr>\n",
       "    <tr>\n",
       "      <th>Target</th>\n",
       "      <th>SEX</th>\n",
       "      <th></th>\n",
       "    </tr>\n",
       "  </thead>\n",
       "  <tbody>\n",
       "    <tr>\n",
       "      <th rowspan=\"2\" valign=\"top\">0</th>\n",
       "      <th>1</th>\n",
       "      <td>165047.646973</td>\n",
       "    </tr>\n",
       "    <tr>\n",
       "      <th>2</th>\n",
       "      <td>168947.338019</td>\n",
       "    </tr>\n",
       "    <tr>\n",
       "      <th rowspan=\"2\" valign=\"top\">1</th>\n",
       "      <th>1</th>\n",
       "      <td>112419.466896</td>\n",
       "    </tr>\n",
       "    <tr>\n",
       "      <th>2</th>\n",
       "      <td>116210.201986</td>\n",
       "    </tr>\n",
       "  </tbody>\n",
       "</table>\n",
       "</div>"
      ],
      "text/plain": [
       "                LIMIT_BAL\n",
       "Target SEX               \n",
       "0      1    165047.646973\n",
       "       2    168947.338019\n",
       "1      1    112419.466896\n",
       "       2    116210.201986"
      ]
     },
     "execution_count": 54,
     "metadata": {},
     "output_type": "execute_result"
    }
   ],
   "source": [
    "df.groupby(['Target','SEX']).agg({'LIMIT_BAL':'mean'})"
   ]
  },
  {
   "cell_type": "code",
   "execution_count": 62,
   "metadata": {},
   "outputs": [
    {
     "data": {
      "text/html": [
       "<div>\n",
       "<style scoped>\n",
       "    .dataframe tbody tr th:only-of-type {\n",
       "        vertical-align: middle;\n",
       "    }\n",
       "\n",
       "    .dataframe tbody tr th {\n",
       "        vertical-align: top;\n",
       "    }\n",
       "\n",
       "    .dataframe thead tr th {\n",
       "        text-align: left;\n",
       "    }\n",
       "\n",
       "    .dataframe thead tr:last-of-type th {\n",
       "        text-align: right;\n",
       "    }\n",
       "</style>\n",
       "<table border=\"1\" class=\"dataframe\">\n",
       "  <thead>\n",
       "    <tr>\n",
       "      <th></th>\n",
       "      <th></th>\n",
       "      <th colspan=\"2\" halign=\"left\">PAY_AMT1</th>\n",
       "      <th colspan=\"2\" halign=\"left\">PAY_AMT2</th>\n",
       "      <th colspan=\"2\" halign=\"left\">PAY_AMT3</th>\n",
       "      <th colspan=\"2\" halign=\"left\">PAY_AMT4</th>\n",
       "      <th colspan=\"2\" halign=\"left\">PAY_AMT5</th>\n",
       "      <th colspan=\"2\" halign=\"left\">PAY_AMT6</th>\n",
       "    </tr>\n",
       "    <tr>\n",
       "      <th></th>\n",
       "      <th></th>\n",
       "      <th>mean</th>\n",
       "      <th>max</th>\n",
       "      <th>mean</th>\n",
       "      <th>max</th>\n",
       "      <th>mean</th>\n",
       "      <th>max</th>\n",
       "      <th>mean</th>\n",
       "      <th>max</th>\n",
       "      <th>mean</th>\n",
       "      <th>max</th>\n",
       "      <th>mean</th>\n",
       "      <th>max</th>\n",
       "    </tr>\n",
       "    <tr>\n",
       "      <th>Target</th>\n",
       "      <th>SEX</th>\n",
       "      <th></th>\n",
       "      <th></th>\n",
       "      <th></th>\n",
       "      <th></th>\n",
       "      <th></th>\n",
       "      <th></th>\n",
       "      <th></th>\n",
       "      <th></th>\n",
       "      <th></th>\n",
       "      <th></th>\n",
       "      <th></th>\n",
       "      <th></th>\n",
       "    </tr>\n",
       "  </thead>\n",
       "  <tbody>\n",
       "    <tr>\n",
       "      <th rowspan=\"2\" valign=\"top\">0</th>\n",
       "      <th>1</th>\n",
       "      <td>6778.04</td>\n",
       "      <td>423903</td>\n",
       "      <td>6723.93</td>\n",
       "      <td>388126</td>\n",
       "      <td>6143.36</td>\n",
       "      <td>417588</td>\n",
       "      <td>5497.86</td>\n",
       "      <td>528897</td>\n",
       "      <td>5694.56</td>\n",
       "      <td>326889</td>\n",
       "      <td>5768.73</td>\n",
       "      <td>527143</td>\n",
       "    </tr>\n",
       "    <tr>\n",
       "      <th>2</th>\n",
       "      <td>6636.28</td>\n",
       "      <td>873552</td>\n",
       "      <td>6727.76</td>\n",
       "      <td>1227082</td>\n",
       "      <td>5963.03</td>\n",
       "      <td>896040</td>\n",
       "      <td>5444.09</td>\n",
       "      <td>621000</td>\n",
       "      <td>5343.08</td>\n",
       "      <td>426529</td>\n",
       "      <td>5654.56</td>\n",
       "      <td>528666</td>\n",
       "    </tr>\n",
       "    <tr>\n",
       "      <th rowspan=\"2\" valign=\"top\">1</th>\n",
       "      <th>1</th>\n",
       "      <td>3752.02</td>\n",
       "      <td>244500</td>\n",
       "      <td>3647.06</td>\n",
       "      <td>358689</td>\n",
       "      <td>3941.40</td>\n",
       "      <td>508229</td>\n",
       "      <td>3435.60</td>\n",
       "      <td>432130</td>\n",
       "      <td>3537.92</td>\n",
       "      <td>332000</td>\n",
       "      <td>3544.90</td>\n",
       "      <td>254000</td>\n",
       "    </tr>\n",
       "    <tr>\n",
       "      <th>2</th>\n",
       "      <td>3678.77</td>\n",
       "      <td>300000</td>\n",
       "      <td>3613.52</td>\n",
       "      <td>302000</td>\n",
       "      <td>3388.29</td>\n",
       "      <td>234456</td>\n",
       "      <td>3295.18</td>\n",
       "      <td>235075</td>\n",
       "      <td>3222.12</td>\n",
       "      <td>287982</td>\n",
       "      <td>3643.78</td>\n",
       "      <td>287982</td>\n",
       "    </tr>\n",
       "  </tbody>\n",
       "</table>\n",
       "</div>"
      ],
      "text/plain": [
       "           PAY_AMT1         PAY_AMT2          PAY_AMT3         PAY_AMT4  \\\n",
       "               mean     max     mean      max     mean     max     mean   \n",
       "Target SEX                                                                \n",
       "0      1    6778.04  423903  6723.93   388126  6143.36  417588  5497.86   \n",
       "       2    6636.28  873552  6727.76  1227082  5963.03  896040  5444.09   \n",
       "1      1    3752.02  244500  3647.06   358689  3941.40  508229  3435.60   \n",
       "       2    3678.77  300000  3613.52   302000  3388.29  234456  3295.18   \n",
       "\n",
       "                   PAY_AMT5         PAY_AMT6          \n",
       "               max     mean     max     mean     max  \n",
       "Target SEX                                            \n",
       "0      1    528897  5694.56  326889  5768.73  527143  \n",
       "       2    621000  5343.08  426529  5654.56  528666  \n",
       "1      1    432130  3537.92  332000  3544.90  254000  \n",
       "       2    235075  3222.12  287982  3643.78  287982  "
      ]
     },
     "execution_count": 62,
     "metadata": {},
     "output_type": "execute_result"
    }
   ],
   "source": [
    "df.groupby(['Target','SEX']).agg({'PAY_AMT1':('mean','max'),'PAY_AMT2':('mean','max'),'PAY_AMT3':('mean','max'),'PAY_AMT4':('mean','max'),'PAY_AMT5':('mean','max'),'PAY_AMT6':('mean','max')}).round(2)"
   ]
  },
  {
   "cell_type": "markdown",
   "metadata": {},
   "source": [
    "##### insight\n",
    "- Yang memiliki tagihan dan limit lebih tinggi memiliki kecenderungan untuk membayar tepat waktu."
   ]
  },
  {
   "cell_type": "code",
   "execution_count": 51,
   "metadata": {},
   "outputs": [
    {
     "data": {
      "text/html": [
       "<div>\n",
       "<style scoped>\n",
       "    .dataframe tbody tr th:only-of-type {\n",
       "        vertical-align: middle;\n",
       "    }\n",
       "\n",
       "    .dataframe tbody tr th {\n",
       "        vertical-align: top;\n",
       "    }\n",
       "\n",
       "    .dataframe thead th {\n",
       "        text-align: right;\n",
       "    }\n",
       "</style>\n",
       "<table border=\"1\" class=\"dataframe\">\n",
       "  <thead>\n",
       "    <tr style=\"text-align: right;\">\n",
       "      <th></th>\n",
       "      <th></th>\n",
       "      <th>AGE</th>\n",
       "    </tr>\n",
       "    <tr>\n",
       "      <th>Target</th>\n",
       "      <th>SEX</th>\n",
       "      <th></th>\n",
       "    </tr>\n",
       "  </thead>\n",
       "  <tbody>\n",
       "    <tr>\n",
       "      <th rowspan=\"2\" valign=\"top\">0</th>\n",
       "      <th>1</th>\n",
       "      <td>36.372379</td>\n",
       "    </tr>\n",
       "    <tr>\n",
       "      <th>2</th>\n",
       "      <td>34.418408</td>\n",
       "    </tr>\n",
       "    <tr>\n",
       "      <th rowspan=\"2\" valign=\"top\">1</th>\n",
       "      <th>1</th>\n",
       "      <td>36.505589</td>\n",
       "    </tr>\n",
       "    <tr>\n",
       "      <th>2</th>\n",
       "      <td>34.536802</td>\n",
       "    </tr>\n",
       "  </tbody>\n",
       "</table>\n",
       "</div>"
      ],
      "text/plain": [
       "                  AGE\n",
       "Target SEX           \n",
       "0      1    36.372379\n",
       "       2    34.418408\n",
       "1      1    36.505589\n",
       "       2    34.536802"
      ]
     },
     "execution_count": 51,
     "metadata": {},
     "output_type": "execute_result"
    }
   ],
   "source": [
    "df.groupby(['Target','SEX']).agg({'AGE':'mean'})"
   ]
  },
  {
   "cell_type": "markdown",
   "metadata": {},
   "source": [
    "##### insight\n",
    "- rata-rata umur yang default payment dan non default payment sama."
   ]
  },
  {
   "cell_type": "code",
   "execution_count": 58,
   "metadata": {},
   "outputs": [
    {
     "data": {
      "text/html": [
       "<div>\n",
       "<style scoped>\n",
       "    .dataframe tbody tr th:only-of-type {\n",
       "        vertical-align: middle;\n",
       "    }\n",
       "\n",
       "    .dataframe tbody tr th {\n",
       "        vertical-align: top;\n",
       "    }\n",
       "\n",
       "    .dataframe thead tr th {\n",
       "        text-align: left;\n",
       "    }\n",
       "\n",
       "    .dataframe thead tr:last-of-type th {\n",
       "        text-align: right;\n",
       "    }\n",
       "</style>\n",
       "<table border=\"1\" class=\"dataframe\">\n",
       "  <thead>\n",
       "    <tr>\n",
       "      <th></th>\n",
       "      <th></th>\n",
       "      <th colspan=\"2\" halign=\"left\">LIMIT_BAL</th>\n",
       "    </tr>\n",
       "    <tr>\n",
       "      <th></th>\n",
       "      <th></th>\n",
       "      <th>mean</th>\n",
       "      <th>count</th>\n",
       "    </tr>\n",
       "    <tr>\n",
       "      <th>MARRIAGE</th>\n",
       "      <th>SEX</th>\n",
       "      <th></th>\n",
       "      <th></th>\n",
       "    </tr>\n",
       "  </thead>\n",
       "  <tbody>\n",
       "    <tr>\n",
       "      <th rowspan=\"2\" valign=\"top\">1</th>\n",
       "      <th>1</th>\n",
       "      <td>176209.905055</td>\n",
       "      <td>3897</td>\n",
       "    </tr>\n",
       "    <tr>\n",
       "      <th>2</th>\n",
       "      <td>161712.748614</td>\n",
       "      <td>6134</td>\n",
       "    </tr>\n",
       "    <tr>\n",
       "      <th rowspan=\"2\" valign=\"top\">2</th>\n",
       "      <th>1</th>\n",
       "      <td>134508.399144</td>\n",
       "      <td>5141</td>\n",
       "    </tr>\n",
       "    <tr>\n",
       "      <th>2</th>\n",
       "      <td>155005.696383</td>\n",
       "      <td>7022</td>\n",
       "    </tr>\n",
       "    <tr>\n",
       "      <th rowspan=\"2\" valign=\"top\">3</th>\n",
       "      <th>1</th>\n",
       "      <td>83302.752294</td>\n",
       "      <td>109</td>\n",
       "    </tr>\n",
       "    <tr>\n",
       "      <th>2</th>\n",
       "      <td>91513.157895</td>\n",
       "      <td>152</td>\n",
       "    </tr>\n",
       "  </tbody>\n",
       "</table>\n",
       "</div>"
      ],
      "text/plain": [
       "                  LIMIT_BAL      \n",
       "                       mean count\n",
       "MARRIAGE SEX                     \n",
       "1        1    176209.905055  3897\n",
       "         2    161712.748614  6134\n",
       "2        1    134508.399144  5141\n",
       "         2    155005.696383  7022\n",
       "3        1     83302.752294   109\n",
       "         2     91513.157895   152"
      ]
     },
     "execution_count": 58,
     "metadata": {},
     "output_type": "execute_result"
    }
   ],
   "source": [
    "df.groupby(['MARRIAGE','SEX']).agg({'LIMIT_BAL':('mean','count')})"
   ]
  },
  {
   "cell_type": "markdown",
   "metadata": {},
   "source": [
    "##### insight\n",
    "- Pria yang sudah menikah memiliki limit balance yang lebih tinggi, Pria yang belum menikah memiliki limit balance yang lebih rendah."
   ]
  },
  {
   "cell_type": "code",
   "execution_count": 66,
   "metadata": {},
   "outputs": [
    {
     "data": {
      "text/html": [
       "<div>\n",
       "<style scoped>\n",
       "    .dataframe tbody tr th:only-of-type {\n",
       "        vertical-align: middle;\n",
       "    }\n",
       "\n",
       "    .dataframe tbody tr th {\n",
       "        vertical-align: top;\n",
       "    }\n",
       "\n",
       "    .dataframe thead tr th {\n",
       "        text-align: left;\n",
       "    }\n",
       "\n",
       "    .dataframe thead tr:last-of-type th {\n",
       "        text-align: right;\n",
       "    }\n",
       "</style>\n",
       "<table border=\"1\" class=\"dataframe\">\n",
       "  <thead>\n",
       "    <tr>\n",
       "      <th></th>\n",
       "      <th colspan=\"2\" halign=\"left\">PAY_1</th>\n",
       "      <th colspan=\"2\" halign=\"left\">PAY_2</th>\n",
       "      <th colspan=\"2\" halign=\"left\">PAY_3</th>\n",
       "      <th colspan=\"2\" halign=\"left\">PAY_4</th>\n",
       "      <th colspan=\"2\" halign=\"left\">PAY_5</th>\n",
       "      <th colspan=\"2\" halign=\"left\">PAY_6</th>\n",
       "    </tr>\n",
       "    <tr>\n",
       "      <th></th>\n",
       "      <th>sum</th>\n",
       "      <th>mean</th>\n",
       "      <th>sum</th>\n",
       "      <th>mean</th>\n",
       "      <th>sum</th>\n",
       "      <th>mean</th>\n",
       "      <th>sum</th>\n",
       "      <th>mean</th>\n",
       "      <th>sum</th>\n",
       "      <th>mean</th>\n",
       "      <th>sum</th>\n",
       "      <th>mean</th>\n",
       "    </tr>\n",
       "    <tr>\n",
       "      <th>Target</th>\n",
       "      <th></th>\n",
       "      <th></th>\n",
       "      <th></th>\n",
       "      <th></th>\n",
       "      <th></th>\n",
       "      <th></th>\n",
       "      <th></th>\n",
       "      <th></th>\n",
       "      <th></th>\n",
       "      <th></th>\n",
       "      <th></th>\n",
       "      <th></th>\n",
       "    </tr>\n",
       "  </thead>\n",
       "  <tbody>\n",
       "    <tr>\n",
       "      <th>0</th>\n",
       "      <td>-461</td>\n",
       "      <td>-0.03</td>\n",
       "      <td>303</td>\n",
       "      <td>0.02</td>\n",
       "      <td>355</td>\n",
       "      <td>0.02</td>\n",
       "      <td>-82</td>\n",
       "      <td>-0.00</td>\n",
       "      <td>-605</td>\n",
       "      <td>-0.04</td>\n",
       "      <td>-535</td>\n",
       "      <td>-0.03</td>\n",
       "    </tr>\n",
       "    <tr>\n",
       "      <th>1</th>\n",
       "      <td>4664</td>\n",
       "      <td>0.89</td>\n",
       "      <td>4401</td>\n",
       "      <td>0.84</td>\n",
       "      <td>3923</td>\n",
       "      <td>0.75</td>\n",
       "      <td>3480</td>\n",
       "      <td>0.66</td>\n",
       "      <td>3059</td>\n",
       "      <td>0.58</td>\n",
       "      <td>2902</td>\n",
       "      <td>0.55</td>\n",
       "    </tr>\n",
       "  </tbody>\n",
       "</table>\n",
       "</div>"
      ],
      "text/plain": [
       "       PAY_1       PAY_2       PAY_3       PAY_4       PAY_5       PAY_6      \n",
       "         sum  mean   sum  mean   sum  mean   sum  mean   sum  mean   sum  mean\n",
       "Target                                                                        \n",
       "0       -461 -0.03   303  0.02   355  0.02   -82 -0.00  -605 -0.04  -535 -0.03\n",
       "1       4664  0.89  4401  0.84  3923  0.75  3480  0.66  3059  0.58  2902  0.55"
      ]
     },
     "execution_count": 66,
     "metadata": {},
     "output_type": "execute_result"
    }
   ],
   "source": [
    "df.groupby(['Target']).agg({'PAY_1':('sum','mean'),'PAY_2':('sum','mean'),'PAY_3':('sum','mean'),'PAY_4':('sum','mean'),'PAY_5':('sum','mean'),'PAY_6':('sum','mean')}).round(2)"
   ]
  },
  {
   "cell_type": "markdown",
   "metadata": {},
   "source": [
    "#### Insight\n",
    "- Paling banyak delay di bulan agustus(pay_2) sejumlah 4703"
   ]
  },
  {
   "cell_type": "markdown",
   "metadata": {},
   "source": [
    "# MACHINE LEARNING MODEL - CLASSIFICATION "
   ]
  },
  {
   "cell_type": "markdown",
   "metadata": {},
   "source": [
    "# SPLIT DATA"
   ]
  },
  {
   "cell_type": "code",
   "execution_count": 33,
   "metadata": {},
   "outputs": [],
   "source": [
    "X=df.drop(columns=['Target'])\n",
    "y=df['Target']"
   ]
  },
  {
   "cell_type": "code",
   "execution_count": 34,
   "metadata": {},
   "outputs": [],
   "source": [
    "# Splitting\n",
    "X_train, X_test, y_train, y_test = train_test_split(X, y, stratify=y, test_size = .20, random_state = 42)"
   ]
  },
  {
   "cell_type": "markdown",
   "metadata": {},
   "source": [
    "# BASE MODEL - PIPELINE"
   ]
  },
  {
   "cell_type": "code",
   "execution_count": 35,
   "metadata": {},
   "outputs": [],
   "source": [
    "num_columns = ['AGE','LIMIT_BAL','PAY_1', 'PAY_2','PAY_3', 'PAY_4', 'PAY_5', 'PAY_6','BILL_AMT1', 'BILL_AMT2','BILL_AMT3', 'BILL_AMT4', 'BILL_AMT5', 'BILL_AMT6', 'PAY_AMT1','PAY_AMT2', 'PAY_AMT3', 'PAY_AMT4', 'PAY_AMT5', 'PAY_AMT6']\n",
    "cat_columns = ['SEX','EDUCATION','MARRIAGE']\n",
    "\n",
    "numeric_pipeline = Pipeline([\n",
    "    ('imputer', SimpleImputer(strategy='mean')),\n",
    "#     ('scaler', StandardScaler()),\n",
    "#     ('poly', PolynomialFeatures(degree=3, include_bias=False)),\n",
    "#     ('power', PowerTransformer(method='yeo-johnson'))\n",
    "])\n",
    "\n",
    "categoric_pipeline = Pipeline([\n",
    "    ('imputer', SimpleImputer(strategy='most_frequent')),\n",
    "    ('encoder', OneHotEncoder())\n",
    "])\n",
    "\n",
    "preprocessor = ColumnTransformer([\n",
    "    ('numeric', numeric_pipeline, num_columns),\n",
    "    ('categorical', categoric_pipeline, cat_columns)\n",
    "])\n",
    "\n",
    "pipe_SVC = Pipeline([\n",
    "    (\"prep\", preprocessor),\n",
    "    (\"algo\", SVC())\n",
    "])\n",
    "\n",
    "pipe_LogReg = Pipeline([\n",
    "    (\"prep\", preprocessor),\n",
    "    (\"algo\", LogisticRegression())\n",
    "])\n",
    "\n",
    "pipe_RF = Pipeline([\n",
    "    (\"prep\", preprocessor),\n",
    "    (\"algo\", RandomForestClassifier())\n",
    "])"
   ]
  },
  {
   "cell_type": "markdown",
   "metadata": {},
   "source": [
    "## SVC - Base Model "
   ]
  },
  {
   "cell_type": "code",
   "execution_count": 36,
   "metadata": {},
   "outputs": [
    {
     "name": "stdout",
     "output_type": "stream",
     "text": [
      "              precision    recall  f1-score   support\n",
      "\n",
      "           0       0.77      1.00      0.87      3442\n",
      "           1       0.00      0.00      0.00      1049\n",
      "\n",
      "    accuracy                           0.77      4491\n",
      "   macro avg       0.38      0.50      0.43      4491\n",
      "weighted avg       0.59      0.77      0.67      4491\n",
      "\n"
     ]
    }
   ],
   "source": [
    "pipe_SVC.fit(X_train,y_train)\n",
    "\n",
    "Y_pred_SVC_base= pipe_SVC.predict(X_test)\n",
    "Y_pred_SVC_base_tr=pipe_SVC.predict(X_train)\n",
    "\n",
    "SVC_acc_base_train = accuracy_score(y_train, Y_pred_SVC_base_tr)\n",
    "SVC_acc_base_ts = accuracy_score(y_test, Y_pred_SVC_base)\n",
    "SVC_rec_base_train = recall_score(y_train, Y_pred_SVC_base_tr)\n",
    "SVC_rec_base_ts = recall_score(y_test, Y_pred_SVC_base)\n",
    "SVC_prec_base_train = precision_score(y_train, Y_pred_SVC_base_tr)\n",
    "SVC_prec_base_ts = precision_score(y_test, Y_pred_SVC_base)\n",
    "SVC_f1_base_train = f1_score(y_train, Y_pred_SVC_base_tr)\n",
    "SVC_f1_base_ts = f1_score(y_test, Y_pred_SVC_base)\n",
    "\n",
    "print(classification_report(y_test, Y_pred_SVC_base))"
   ]
  },
  {
   "cell_type": "code",
   "execution_count": 37,
   "metadata": {},
   "outputs": [
    {
     "data": {
      "text/html": [
       "<div>\n",
       "<style scoped>\n",
       "    .dataframe tbody tr th:only-of-type {\n",
       "        vertical-align: middle;\n",
       "    }\n",
       "\n",
       "    .dataframe tbody tr th {\n",
       "        vertical-align: top;\n",
       "    }\n",
       "\n",
       "    .dataframe thead th {\n",
       "        text-align: right;\n",
       "    }\n",
       "</style>\n",
       "<table border=\"1\" class=\"dataframe\">\n",
       "  <thead>\n",
       "    <tr style=\"text-align: right;\">\n",
       "      <th></th>\n",
       "      <th>Pred 1</th>\n",
       "      <th>Pred 0</th>\n",
       "    </tr>\n",
       "  </thead>\n",
       "  <tbody>\n",
       "    <tr>\n",
       "      <th>Akt 1</th>\n",
       "      <td>0</td>\n",
       "      <td>1049</td>\n",
       "    </tr>\n",
       "    <tr>\n",
       "      <th>Akt 0</th>\n",
       "      <td>0</td>\n",
       "      <td>3442</td>\n",
       "    </tr>\n",
       "  </tbody>\n",
       "</table>\n",
       "</div>"
      ],
      "text/plain": [
       "       Pred 1  Pred 0\n",
       "Akt 1       0    1049\n",
       "Akt 0       0    3442"
      ]
     },
     "execution_count": 37,
     "metadata": {},
     "output_type": "execute_result"
    }
   ],
   "source": [
    "cm_SVC_1 = confusion_matrix(y_test, Y_pred_SVC_base, labels=[1, 0])\n",
    "df_SVC_1 = pd.DataFrame(cm_SVC_1, index=['Akt 1', 'Akt 0'], columns = ['Pred 1', 'Pred 0'])\n",
    "df_SVC_1"
   ]
  },
  {
   "cell_type": "markdown",
   "metadata": {},
   "source": [
    "## Logistic Regression - Base Model "
   ]
  },
  {
   "cell_type": "code",
   "execution_count": 38,
   "metadata": {},
   "outputs": [
    {
     "name": "stdout",
     "output_type": "stream",
     "text": [
      "              precision    recall  f1-score   support\n",
      "\n",
      "           0       0.77      1.00      0.87      3442\n",
      "           1       0.67      0.00      0.00      1049\n",
      "\n",
      "    accuracy                           0.77      4491\n",
      "   macro avg       0.72      0.50      0.44      4491\n",
      "weighted avg       0.74      0.77      0.67      4491\n",
      "\n"
     ]
    }
   ],
   "source": [
    "pipe_LogReg.fit(X_train,y_train)\n",
    "\n",
    "Y_pred_logreg_base=pipe_LogReg.predict(X_test)\n",
    "Y_pred_logreg_base_tr=pipe_LogReg.predict(X_train)\n",
    "\n",
    "LR_acc_base_train = accuracy_score(y_train, Y_pred_logreg_base_tr)\n",
    "LR_acc_base_ts = accuracy_score(y_test, Y_pred_logreg_base)\n",
    "LR_rec_base_train = recall_score(y_train, Y_pred_logreg_base_tr)\n",
    "LR_rec_base_ts = recall_score(y_test, Y_pred_logreg_base)\n",
    "LR_prec_base_train = precision_score(y_train, Y_pred_logreg_base_tr)\n",
    "LR_prec_base_ts = precision_score(y_test, Y_pred_logreg_base)\n",
    "LR_f1_base_train = f1_score(y_train, Y_pred_logreg_base_tr)\n",
    "LR_f1_base_ts = f1_score(y_test, Y_pred_logreg_base)\n",
    "\n",
    "print(classification_report(y_test, Y_pred_logreg_base))"
   ]
  },
  {
   "cell_type": "code",
   "execution_count": 39,
   "metadata": {},
   "outputs": [
    {
     "data": {
      "text/html": [
       "<div>\n",
       "<style scoped>\n",
       "    .dataframe tbody tr th:only-of-type {\n",
       "        vertical-align: middle;\n",
       "    }\n",
       "\n",
       "    .dataframe tbody tr th {\n",
       "        vertical-align: top;\n",
       "    }\n",
       "\n",
       "    .dataframe thead th {\n",
       "        text-align: right;\n",
       "    }\n",
       "</style>\n",
       "<table border=\"1\" class=\"dataframe\">\n",
       "  <thead>\n",
       "    <tr style=\"text-align: right;\">\n",
       "      <th></th>\n",
       "      <th>Pred 1</th>\n",
       "      <th>Pred 0</th>\n",
       "    </tr>\n",
       "  </thead>\n",
       "  <tbody>\n",
       "    <tr>\n",
       "      <th>Akt 1</th>\n",
       "      <td>2</td>\n",
       "      <td>1047</td>\n",
       "    </tr>\n",
       "    <tr>\n",
       "      <th>Akt 0</th>\n",
       "      <td>1</td>\n",
       "      <td>3441</td>\n",
       "    </tr>\n",
       "  </tbody>\n",
       "</table>\n",
       "</div>"
      ],
      "text/plain": [
       "       Pred 1  Pred 0\n",
       "Akt 1       2    1047\n",
       "Akt 0       1    3441"
      ]
     },
     "execution_count": 39,
     "metadata": {},
     "output_type": "execute_result"
    }
   ],
   "source": [
    "cm_LR_1 = confusion_matrix(y_test, Y_pred_logreg_base, labels=[1, 0])\n",
    "df_LR_1 = pd.DataFrame(cm_LR_1, index=['Akt 1', 'Akt 0'], columns = ['Pred 1', 'Pred 0'])\n",
    "df_LR_1"
   ]
  },
  {
   "cell_type": "markdown",
   "metadata": {},
   "source": [
    "## Random Forest - Base Model"
   ]
  },
  {
   "cell_type": "code",
   "execution_count": 40,
   "metadata": {},
   "outputs": [
    {
     "name": "stdout",
     "output_type": "stream",
     "text": [
      "              precision    recall  f1-score   support\n",
      "\n",
      "           0       0.85      0.94      0.89      3442\n",
      "           1       0.68      0.44      0.53      1049\n",
      "\n",
      "    accuracy                           0.82      4491\n",
      "   macro avg       0.76      0.69      0.71      4491\n",
      "weighted avg       0.81      0.82      0.80      4491\n",
      "\n"
     ]
    }
   ],
   "source": [
    "pipe_RF.fit(X_train,y_train)\n",
    "\n",
    "y_pred_RF_base=pipe_RF.predict(X_test)\n",
    "y_pred_RF_base_tr=pipe_RF.predict(X_train)\n",
    "\n",
    "RF_acc_base_train = accuracy_score(y_train, y_pred_RF_base_tr)\n",
    "RF_acc_base_ts = accuracy_score(y_test, y_pred_RF_base)\n",
    "RF_rec_base_train = recall_score(y_train, y_pred_RF_base_tr)\n",
    "RF_rec_base_ts = recall_score(y_test, y_pred_RF_base)\n",
    "RF_prec_base_train = precision_score(y_train, y_pred_RF_base_tr)\n",
    "RF_prec_base_ts = precision_score(y_test, y_pred_RF_base)\n",
    "RF_f1_base_train = f1_score(y_train, y_pred_RF_base_tr)\n",
    "RF_f1_base_ts = f1_score(y_test, y_pred_RF_base)\n",
    "\n",
    "print(classification_report(y_test, y_pred_RF_base))"
   ]
  },
  {
   "cell_type": "code",
   "execution_count": 41,
   "metadata": {},
   "outputs": [
    {
     "data": {
      "text/html": [
       "<div>\n",
       "<style scoped>\n",
       "    .dataframe tbody tr th:only-of-type {\n",
       "        vertical-align: middle;\n",
       "    }\n",
       "\n",
       "    .dataframe tbody tr th {\n",
       "        vertical-align: top;\n",
       "    }\n",
       "\n",
       "    .dataframe thead th {\n",
       "        text-align: right;\n",
       "    }\n",
       "</style>\n",
       "<table border=\"1\" class=\"dataframe\">\n",
       "  <thead>\n",
       "    <tr style=\"text-align: right;\">\n",
       "      <th></th>\n",
       "      <th>Pred 1</th>\n",
       "      <th>Pred 0</th>\n",
       "    </tr>\n",
       "  </thead>\n",
       "  <tbody>\n",
       "    <tr>\n",
       "      <th>Akt 1</th>\n",
       "      <td>459</td>\n",
       "      <td>590</td>\n",
       "    </tr>\n",
       "    <tr>\n",
       "      <th>Akt 0</th>\n",
       "      <td>220</td>\n",
       "      <td>3222</td>\n",
       "    </tr>\n",
       "  </tbody>\n",
       "</table>\n",
       "</div>"
      ],
      "text/plain": [
       "       Pred 1  Pred 0\n",
       "Akt 1     459     590\n",
       "Akt 0     220    3222"
      ]
     },
     "execution_count": 41,
     "metadata": {},
     "output_type": "execute_result"
    }
   ],
   "source": [
    "cm_RF_1 = confusion_matrix(y_test, y_pred_RF_base, labels=[1, 0])\n",
    "df_RF_1 = pd.DataFrame(cm_RF_1, index=['Akt 1', 'Akt 0'], columns = ['Pred 1', 'Pred 0'])\n",
    "df_RF_1"
   ]
  },
  {
   "cell_type": "markdown",
   "metadata": {},
   "source": [
    "# FEATURE SELECTION - Corelation Ratio n Assosiation"
   ]
  },
  {
   "cell_type": "code",
   "execution_count": 42,
   "metadata": {},
   "outputs": [
    {
     "data": {
      "text/plain": [
       "Index(['LIMIT_BAL', 'SEX', 'EDUCATION', 'MARRIAGE', 'AGE', 'PAY_1', 'PAY_2',\n",
       "       'PAY_3', 'PAY_4', 'PAY_5', 'PAY_6', 'BILL_AMT1', 'BILL_AMT2',\n",
       "       'BILL_AMT3', 'BILL_AMT4', 'BILL_AMT5', 'BILL_AMT6', 'PAY_AMT1',\n",
       "       'PAY_AMT2', 'PAY_AMT3', 'PAY_AMT4', 'PAY_AMT5', 'PAY_AMT6', 'Target'],\n",
       "      dtype='object')"
      ]
     },
     "execution_count": 42,
     "metadata": {},
     "output_type": "execute_result"
    }
   ],
   "source": [
    "df.columns"
   ]
  },
  {
   "cell_type": "code",
   "execution_count": 43,
   "metadata": {},
   "outputs": [
    {
     "data": {
      "image/png": "[encoded data removed]",
      "text/plain": [
       "<Figure size 1584x72 with 1 Axes>"
      ]
     },
     "metadata": {
      "needs_background": "light"
     },
     "output_type": "display_data"
    }
   ],
   "source": [
    "cor_ratio = []\n",
    "numeric=['AGE','LIMIT_BAL','PAY_1', 'PAY_2','PAY_3', 'PAY_4', 'PAY_5', 'PAY_6','BILL_AMT1', 'BILL_AMT2',\n",
    "       'BILL_AMT3', 'BILL_AMT4', 'BILL_AMT5', 'BILL_AMT6', 'PAY_AMT1',\n",
    "       'PAY_AMT2', 'PAY_AMT3', 'PAY_AMT4', 'PAY_AMT5', 'PAY_AMT6']\n",
    "for i in numeric:\n",
    "    cor= round(correlation_ratio(df['Target'], df[i]), 2)\n",
    "    cor_ratio.append(cor)\n",
    "\n",
    "data_cr = pd.DataFrame(data = [cor_ratio],index = ['Target'],columns=['AGE','LIMIT_BAL','PAY_1', 'PAY_2','PAY_3', 'PAY_4', 'PAY_5', 'PAY_6','BILL_AMT1', 'BILL_AMT2',\n",
    "       'BILL_AMT3', 'BILL_AMT4', 'BILL_AMT5', 'BILL_AMT6', 'PAY_AMT1',\n",
    "       'PAY_AMT2', 'PAY_AMT3', 'PAY_AMT4', 'PAY_AMT5', 'PAY_AMT6'])\n",
    "\n",
    "plt.figure(figsize=(22, 1))\n",
    "sns.heatmap(data_cr, annot=True, cbar=False)\n",
    "plt.show()"
   ]
  },
  {
   "cell_type": "code",
   "execution_count": 44,
   "metadata": {},
   "outputs": [
    {
     "data": {
      "image/png": "[encoded data removed]",
      "text/plain": [
       "<Figure size 1584x72 with 1 Axes>"
      ]
     },
     "metadata": {
      "needs_background": "light"
     },
     "output_type": "display_data"
    }
   ],
   "source": [
    "cramers = []\n",
    "cat=['SEX','EDUCATION','MARRIAGE']\n",
    "\n",
    "\n",
    "for i in cat:\n",
    "    cram= round(cramers_v(df['Target'], df[i]), 2)\n",
    "    cramers.append(cram)\n",
    "\n",
    "data_cram = pd.DataFrame(data = [cramers],index = ['Target'],columns=['SEX','EDUCATION','MARRIAGE'])\n",
    "\n",
    "plt.figure(figsize=(22, 1))\n",
    "sns.heatmap(data_cram, annot=True, cbar=False)\n",
    "plt.show()"
   ]
  },
  {
   "cell_type": "code",
   "execution_count": 45,
   "metadata": {},
   "outputs": [
    {
     "data": {
      "image/png": "[encoded data removed]",
      "text/plain": [
       "<Figure size 1584x72 with 1 Axes>"
      ]
     },
     "metadata": {
      "needs_background": "light"
     },
     "output_type": "display_data"
    }
   ],
   "source": [
    "theils = []\n",
    "cat=['SEX','EDUCATION','MARRIAGE']\n",
    "\n",
    "\n",
    "for i in cat:\n",
    "    th= round(theils_u(df['Target'], df[i]), 2)\n",
    "    theils.append(th)\n",
    "\n",
    "data_th = pd.DataFrame(data = [theils],index = ['Target'],columns=['SEX','EDUCATION','MARRIAGE'])\n",
    "\n",
    "plt.figure(figsize=(22, 1))\n",
    "sns.heatmap(data_th, annot=True, cbar=False)\n",
    "plt.show()"
   ]
  },
  {
   "cell_type": "markdown",
   "metadata": {},
   "source": [
    "#### Berdasarkan corelation_ratio dan asosiasi dari dataset ini. feature sex, edu,marriage, dan age tidak begitu berpengaruh dalam feature Target "
   ]
  },
  {
   "cell_type": "code",
   "execution_count": 46,
   "metadata": {},
   "outputs": [],
   "source": [
    "df_1=df.copy()\n",
    "df_1.drop(columns=['SEX','EDUCATION','MARRIAGE','AGE'],inplace=True)"
   ]
  },
  {
   "cell_type": "markdown",
   "metadata": {},
   "source": [
    "# SPLIT DATA"
   ]
  },
  {
   "cell_type": "code",
   "execution_count": 47,
   "metadata": {},
   "outputs": [],
   "source": [
    "X_1=df_1.drop(columns=['Target'])\n",
    "y_1=df_1['Target']"
   ]
  },
  {
   "cell_type": "code",
   "execution_count": 48,
   "metadata": {},
   "outputs": [],
   "source": [
    "# Splitting\n",
    "X1_train, X1_test, y1_train, y1_test = train_test_split(X_1, y_1, stratify=y_1, test_size = .20, random_state = 42)"
   ]
  },
  {
   "cell_type": "markdown",
   "metadata": {},
   "source": [
    "# PIPELINE ft (Feature Engineering, Feature Selection)"
   ]
  },
  {
   "cell_type": "code",
   "execution_count": 49,
   "metadata": {},
   "outputs": [],
   "source": [
    "num_columns = ['LIMIT_BAL','PAY_1', 'PAY_2','PAY_3', 'PAY_4', 'PAY_5', 'PAY_6','BILL_AMT1', 'BILL_AMT2','BILL_AMT3', 'BILL_AMT4', 'BILL_AMT5', 'BILL_AMT6', 'PAY_AMT1','PAY_AMT2', 'PAY_AMT3', 'PAY_AMT4', 'PAY_AMT5', 'PAY_AMT6']\n",
    "\n",
    "numeric_pipeline = Pipeline([\n",
    "    ('imputer', SimpleImputer(strategy='mean')),\n",
    "     ('scaler', RobustScaler()),\n",
    "     ('poly', PolynomialFeatures(degree=3, include_bias=False)),\n",
    "#     ('power', PowerTransformer(method='yeo-johnson'))\n",
    "])\n",
    "\n",
    "\n",
    "preprocessor = ColumnTransformer([\n",
    "    ('numeric', numeric_pipeline, num_columns)\n",
    "])\n",
    "\n",
    "pipe_SVC_1 = Pipeline([\n",
    "    (\"prep\", preprocessor),\n",
    "    (\"algo\", SVC(class_weight={0:.15,1:.85},max_iter=300))\n",
    "])\n",
    "\n",
    "pipe_LogReg_1 = Pipeline([\n",
    "    (\"prep\", preprocessor),\n",
    "    (\"algo\", LogisticRegression(class_weight={0:.15,1:.85}))\n",
    "])\n",
    "\n",
    "pipe_RF_1 = Pipeline([\n",
    "    (\"prep\", preprocessor),\n",
    "    (\"algo\", RandomForestClassifier(class_weight={0:.15,1:.85}))\n",
    "])"
   ]
  },
  {
   "cell_type": "markdown",
   "metadata": {},
   "source": [
    "## SVC - Pipeline2"
   ]
  },
  {
   "cell_type": "code",
   "execution_count": 50,
   "metadata": {},
   "outputs": [
    {
     "data": {
      "text/plain": [
       "Pipeline(steps=[('prep',\n",
       "                 ColumnTransformer(transformers=[('numeric',\n",
       "                                                  Pipeline(steps=[('imputer',\n",
       "                                                                   SimpleImputer()),\n",
       "                                                                  ('scaler',\n",
       "                                                                   RobustScaler()),\n",
       "                                                                  ('poly',\n",
       "                                                                   PolynomialFeatures(degree=3,\n",
       "                                                                                      include_bias=False))]),\n",
       "                                                  ['LIMIT_BAL', 'PAY_1',\n",
       "                                                   'PAY_2', 'PAY_3', 'PAY_4',\n",
       "                                                   'PAY_5', 'PAY_6',\n",
       "                                                   'BILL_AMT1', 'BILL_AMT2',\n",
       "                                                   'BILL_AMT3', 'BILL_AMT4',\n",
       "                                                   'BILL_AMT5', 'BILL_AMT6',\n",
       "                                                   'PAY_AMT1', 'PAY_AMT2',\n",
       "                                                   'PAY_AMT3', 'PAY_AMT4',\n",
       "                                                   'PAY_AMT5', 'PAY_AMT6'])])),\n",
       "                ('algo', SVC(class_weight={0: 0.15, 1: 0.85}, max_iter=300))])"
      ]
     },
     "execution_count": 50,
     "metadata": {},
     "output_type": "execute_result"
    }
   ],
   "source": [
    "pipe_SVC_1.fit(X1_train,y1_train)"
   ]
  },
  {
   "cell_type": "code",
   "execution_count": 51,
   "metadata": {},
   "outputs": [
    {
     "name": "stdout",
     "output_type": "stream",
     "text": [
      "              precision    recall  f1-score   support\n",
      "\n",
      "           0       0.00      0.00      0.00      3442\n",
      "           1       0.23      1.00      0.38      1049\n",
      "\n",
      "    accuracy                           0.23      4491\n",
      "   macro avg       0.12      0.50      0.19      4491\n",
      "weighted avg       0.05      0.23      0.09      4491\n",
      "\n"
     ]
    }
   ],
   "source": [
    "Y_pred_SVC_1= pipe_SVC_1.predict(X1_test)\n",
    "Y_pred_SVC_1_tr=pipe_SVC_1.predict(X1_train)\n",
    "\n",
    "SVC_acc_1_train = accuracy_score(y1_train, Y_pred_SVC_1_tr)\n",
    "SVC_acc_1_ts = accuracy_score(y1_test, Y_pred_SVC_1)\n",
    "SVC_rec_1_train = recall_score(y1_train, Y_pred_SVC_1_tr)\n",
    "SVC_rec_1_ts = recall_score(y1_test, Y_pred_SVC_1)\n",
    "SVC_prec_1_train = precision_score(y1_train, Y_pred_SVC_1_tr)\n",
    "SVC_prec_1_ts = precision_score(y1_test, Y_pred_SVC_1)\n",
    "SVC_f1_1_train = f1_score(y1_train, Y_pred_SVC_1_tr)\n",
    "SVC_f1_1_ts = f1_score(y1_test, Y_pred_SVC_1)\n",
    "\n",
    "print(classification_report(y1_test, Y_pred_SVC_1))"
   ]
  },
  {
   "cell_type": "code",
   "execution_count": 52,
   "metadata": {},
   "outputs": [
    {
     "data": {
      "text/html": [
       "<div>\n",
       "<style scoped>\n",
       "    .dataframe tbody tr th:only-of-type {\n",
       "        vertical-align: middle;\n",
       "    }\n",
       "\n",
       "    .dataframe tbody tr th {\n",
       "        vertical-align: top;\n",
       "    }\n",
       "\n",
       "    .dataframe thead th {\n",
       "        text-align: right;\n",
       "    }\n",
       "</style>\n",
       "<table border=\"1\" class=\"dataframe\">\n",
       "  <thead>\n",
       "    <tr style=\"text-align: right;\">\n",
       "      <th></th>\n",
       "      <th>Pred 1</th>\n",
       "      <th>Pred 0</th>\n",
       "    </tr>\n",
       "  </thead>\n",
       "  <tbody>\n",
       "    <tr>\n",
       "      <th>Akt 1</th>\n",
       "      <td>1049</td>\n",
       "      <td>0</td>\n",
       "    </tr>\n",
       "    <tr>\n",
       "      <th>Akt 0</th>\n",
       "      <td>3442</td>\n",
       "      <td>0</td>\n",
       "    </tr>\n",
       "  </tbody>\n",
       "</table>\n",
       "</div>"
      ],
      "text/plain": [
       "       Pred 1  Pred 0\n",
       "Akt 1    1049       0\n",
       "Akt 0    3442       0"
      ]
     },
     "execution_count": 52,
     "metadata": {},
     "output_type": "execute_result"
    }
   ],
   "source": [
    "cm_SVC_1 = confusion_matrix(y1_test, Y_pred_SVC_1, labels=[1, 0])\n",
    "df_SVC_1 = pd.DataFrame(cm_SVC_1, index=['Akt 1', 'Akt 0'], columns = ['Pred 1', 'Pred 0'])\n",
    "df_SVC_1"
   ]
  },
  {
   "cell_type": "markdown",
   "metadata": {},
   "source": [
    "## Logistic Regression - PIPELINE2"
   ]
  },
  {
   "cell_type": "code",
   "execution_count": 53,
   "metadata": {},
   "outputs": [
    {
     "name": "stdout",
     "output_type": "stream",
     "text": [
      "              precision    recall  f1-score   support\n",
      "\n",
      "           0       0.88      0.40      0.55      3442\n",
      "           1       0.30      0.83      0.44      1049\n",
      "\n",
      "    accuracy                           0.50      4491\n",
      "   macro avg       0.59      0.61      0.49      4491\n",
      "weighted avg       0.75      0.50      0.52      4491\n",
      "\n"
     ]
    }
   ],
   "source": [
    "pipe_LogReg_1.fit(X1_train,y1_train)\n",
    "\n",
    "Y_pred_logreg_1=pipe_LogReg_1.predict(X1_test)\n",
    "Y_pred_logreg_1_tr=pipe_LogReg_1.predict(X1_train)\n",
    "\n",
    "LR_acc_1_train = accuracy_score(y1_train, Y_pred_logreg_1_tr)\n",
    "LR_acc_1_ts = accuracy_score(y1_test, Y_pred_logreg_1)\n",
    "LR_rec_1_train = recall_score(y1_train, Y_pred_logreg_1_tr)\n",
    "LR_rec_1_ts = recall_score(y1_test, Y_pred_logreg_1)\n",
    "LR_prec_1_train = precision_score(y1_train, Y_pred_logreg_1_tr)\n",
    "LR_prec_1_ts = precision_score(y1_test, Y_pred_logreg_1)\n",
    "LR_f1_1_train = f1_score(y1_train, Y_pred_logreg_1_tr)\n",
    "LR_f1_1_ts = f1_score(y1_test, Y_pred_logreg_1)\n",
    "\n",
    "print(classification_report(y1_test, Y_pred_logreg_1))"
   ]
  },
  {
   "cell_type": "code",
   "execution_count": 54,
   "metadata": {},
   "outputs": [
    {
     "data": {
      "text/html": [
       "<div>\n",
       "<style scoped>\n",
       "    .dataframe tbody tr th:only-of-type {\n",
       "        vertical-align: middle;\n",
       "    }\n",
       "\n",
       "    .dataframe tbody tr th {\n",
       "        vertical-align: top;\n",
       "    }\n",
       "\n",
       "    .dataframe thead th {\n",
       "        text-align: right;\n",
       "    }\n",
       "</style>\n",
       "<table border=\"1\" class=\"dataframe\">\n",
       "  <thead>\n",
       "    <tr style=\"text-align: right;\">\n",
       "      <th></th>\n",
       "      <th>Pred 1</th>\n",
       "      <th>Pred 0</th>\n",
       "    </tr>\n",
       "  </thead>\n",
       "  <tbody>\n",
       "    <tr>\n",
       "      <th>Akt 1</th>\n",
       "      <td>869</td>\n",
       "      <td>180</td>\n",
       "    </tr>\n",
       "    <tr>\n",
       "      <th>Akt 0</th>\n",
       "      <td>2073</td>\n",
       "      <td>1369</td>\n",
       "    </tr>\n",
       "  </tbody>\n",
       "</table>\n",
       "</div>"
      ],
      "text/plain": [
       "       Pred 1  Pred 0\n",
       "Akt 1     869     180\n",
       "Akt 0    2073    1369"
      ]
     },
     "execution_count": 54,
     "metadata": {},
     "output_type": "execute_result"
    }
   ],
   "source": [
    "cm_LR_1 = confusion_matrix(y1_test, Y_pred_logreg_1, labels=[1, 0])\n",
    "df_LR_1 = pd.DataFrame(cm_LR_1, index=['Akt 1', 'Akt 0'], columns = ['Pred 1', 'Pred 0'])\n",
    "df_LR_1"
   ]
  },
  {
   "cell_type": "markdown",
   "metadata": {},
   "source": [
    "## Random Forest - PIPELINE2"
   ]
  },
  {
   "cell_type": "code",
   "execution_count": 55,
   "metadata": {},
   "outputs": [
    {
     "name": "stdout",
     "output_type": "stream",
     "text": [
      "              precision    recall  f1-score   support\n",
      "\n",
      "           0       0.83      0.94      0.88      3442\n",
      "           1       0.66      0.37      0.47      1049\n",
      "\n",
      "    accuracy                           0.81      4491\n",
      "   macro avg       0.75      0.65      0.68      4491\n",
      "weighted avg       0.79      0.81      0.79      4491\n",
      "\n"
     ]
    }
   ],
   "source": [
    "pipe_RF_1.fit(X1_train,y1_train)\n",
    "\n",
    "y_pred_RF_1=pipe_RF_1.predict(X1_test)\n",
    "y_pred_RF_1_tr=pipe_RF_1.predict(X1_train)\n",
    "\n",
    "RF_acc_1_train = accuracy_score(y1_train, y_pred_RF_1_tr)\n",
    "RF_acc_1_ts = accuracy_score(y1_test, y_pred_RF_1)\n",
    "RF_rec_1_train = recall_score(y1_train, y_pred_RF_1_tr)\n",
    "RF_rec_1_ts = recall_score(y1_test, y_pred_RF_1)\n",
    "RF_prec_1_train = precision_score(y1_train, y_pred_RF_1_tr)\n",
    "RF_prec_1_ts = precision_score(y1_test, y_pred_RF_1)\n",
    "RF_f1_1_train = f1_score(y1_train, y_pred_RF_1_tr)\n",
    "RF_f1_1_ts = f1_score(y1_test, y_pred_RF_1)\n",
    "\n",
    "print(classification_report(y1_test, y_pred_RF_1))"
   ]
  },
  {
   "cell_type": "code",
   "execution_count": 56,
   "metadata": {},
   "outputs": [
    {
     "data": {
      "text/html": [
       "<div>\n",
       "<style scoped>\n",
       "    .dataframe tbody tr th:only-of-type {\n",
       "        vertical-align: middle;\n",
       "    }\n",
       "\n",
       "    .dataframe tbody tr th {\n",
       "        vertical-align: top;\n",
       "    }\n",
       "\n",
       "    .dataframe thead th {\n",
       "        text-align: right;\n",
       "    }\n",
       "</style>\n",
       "<table border=\"1\" class=\"dataframe\">\n",
       "  <thead>\n",
       "    <tr style=\"text-align: right;\">\n",
       "      <th></th>\n",
       "      <th>Pred 1</th>\n",
       "      <th>Pred 0</th>\n",
       "    </tr>\n",
       "  </thead>\n",
       "  <tbody>\n",
       "    <tr>\n",
       "      <th>Akt 1</th>\n",
       "      <td>385</td>\n",
       "      <td>664</td>\n",
       "    </tr>\n",
       "    <tr>\n",
       "      <th>Akt 0</th>\n",
       "      <td>198</td>\n",
       "      <td>3244</td>\n",
       "    </tr>\n",
       "  </tbody>\n",
       "</table>\n",
       "</div>"
      ],
      "text/plain": [
       "       Pred 1  Pred 0\n",
       "Akt 1     385     664\n",
       "Akt 0     198    3244"
      ]
     },
     "execution_count": 56,
     "metadata": {},
     "output_type": "execute_result"
    }
   ],
   "source": [
    "cm_RF_1 = confusion_matrix(y1_test, y_pred_RF_1, labels=[1, 0])\n",
    "df_RF_1 = pd.DataFrame(cm_RF_1, index=['Akt 1', 'Akt 0'], columns = ['Pred 1', 'Pred 0'])\n",
    "df_RF_1"
   ]
  },
  {
   "cell_type": "markdown",
   "metadata": {},
   "source": [
    "# HYPERPARAMETER TUNING "
   ]
  },
  {
   "cell_type": "markdown",
   "metadata": {},
   "source": [
    "# Hyparameter Tuning - Handling Imbalance - Class Weight "
   ]
  },
  {
   "cell_type": "code",
   "execution_count": 63,
   "metadata": {},
   "outputs": [],
   "source": [
    "num_columns = ['LIMIT_BAL','PAY_1', 'PAY_2','PAY_3', 'PAY_4', 'PAY_5', 'PAY_6','BILL_AMT1', 'BILL_AMT2','BILL_AMT3', 'BILL_AMT4', 'BILL_AMT5', 'BILL_AMT6', 'PAY_AMT1','PAY_AMT2', 'PAY_AMT3', 'PAY_AMT4', 'PAY_AMT5', 'PAY_AMT6']\n",
    "\n",
    "numeric_pipeline = Pipeline([\n",
    "    ('imputer', SimpleImputer(strategy='mean')),\n",
    "#     ('scaler', RobustScaler()),\n",
    "    ('poly', PolynomialFeatures(degree=3, include_bias=False)),\n",
    "#     ('power', PowerTransformer(method='yeo-johnson'))\n",
    "])\n",
    "\n",
    "preprocessor = ColumnTransformer([\n",
    "    ('numeric', numeric_pipeline, num_columns),\n",
    "])\n",
    "\n",
    "\n",
    "pipe_SVC_pol = Pipeline([\n",
    "    (\"prep\", preprocessor),\n",
    "    (\"algo\", SVC(max_iter=100))\n",
    "])\n",
    "\n",
    "pipe_LogReg_pol = Pipeline([\n",
    "    (\"prep\", preprocessor),\n",
    "    (\"algo\", LogisticRegression())\n",
    "])\n",
    "\n",
    "pipe_RF_pol = Pipeline([\n",
    "    (\"prep\", preprocessor),\n",
    "    (\"algo\", RandomForestClassifier())\n",
    "])"
   ]
  },
  {
   "cell_type": "markdown",
   "metadata": {},
   "source": [
    "## SVC Tuning "
   ]
  },
  {
   "cell_type": "code",
   "execution_count": 64,
   "metadata": {},
   "outputs": [],
   "source": [
    "# pipe_SVC_pol.get_params()"
   ]
  },
  {
   "cell_type": "code",
   "execution_count": null,
   "metadata": {},
   "outputs": [],
   "source": [
    "param_SVC = {\n",
    "    'algo__C': np.arange(1, 20, 10),\n",
    "    'algo__class_weight': [\"balanced\",{0:0.15,1:0.85},{0:1,1:0.9},],\n",
    "    \"algo__gamma\" : np.arange(1, 20, 5),\n",
    "}"
   ]
  },
  {
   "cell_type": "code",
   "execution_count": null,
   "metadata": {},
   "outputs": [],
   "source": [
    "skf = StratifiedKFold(n_splits=3, random_state=42)"
   ]
  },
  {
   "cell_type": "code",
   "execution_count": null,
   "metadata": {},
   "outputs": [],
   "source": [
    "SVC_tune = RandomizedSearchCV(pipe_SVC_pol, param_SVC,n_iter=50, cv = skf, scoring = 'f1', n_jobs = -1, verbose=1,random_state=42)"
   ]
  },
  {
   "cell_type": "code",
   "execution_count": null,
   "metadata": {},
   "outputs": [],
   "source": [
    "SVC_tune.fit(X1_train, y1_train)"
   ]
  },
  {
   "cell_type": "code",
   "execution_count": null,
   "metadata": {},
   "outputs": [],
   "source": [
    "SVC_tune.best_params_"
   ]
  },
  {
   "cell_type": "code",
   "execution_count": null,
   "metadata": {},
   "outputs": [],
   "source": [
    "SVC_tune_1=SVC_tune.best_estimator_\n",
    "\n",
    "Y_pred_SVC=SVC_tune_1.predict(X1_test)\n",
    "Y_pred_SVC_tr=SVC_tune_1.predict(X1_train)\n",
    "\n",
    "SVC_acc_train = accuracy_score(y1_train, Y_pred_SVC_tr)\n",
    "SVC_acc_ts = accuracy_score(y1_test, Y_pred_SVC)\n",
    "SVC_rec_train = recall_score(y1_train, Y_pred_SVC_tr)\n",
    "SVC_rec_ts = recall_score(y1_test, Y_pred_SVC)\n",
    "SVC_prec_train = precision_score(y1_train, Y_pred_SVC_tr)\n",
    "SVC_prec_ts = precision_score(y1_test, Y_pred_SVC)\n",
    "SVC_f1_train = f1_score(y1_train, Y_pred_SVC_tr)\n",
    "SVC_f1_ts = f1_score(y1_test, Y_pred_SVC)\n",
    "\n",
    "print(classification_report(y1_test, Y_pred_SVC))"
   ]
  },
  {
   "cell_type": "code",
   "execution_count": null,
   "metadata": {},
   "outputs": [],
   "source": [
    "cm_SVC_2 = confusion_matrix(y1_test, Y_pred_SVC, labels=[1, 0])\n",
    "df_SVC_2 = pd.DataFrame(cm_SVC_2, index=['Akt 1', 'Akt 0'], columns = ['Pred 1', 'Pred 0'])\n",
    "df_SVC_2"
   ]
  },
  {
   "cell_type": "markdown",
   "metadata": {},
   "source": [
    "## Logistioc Regression Tuning "
   ]
  },
  {
   "cell_type": "code",
   "execution_count": 69,
   "metadata": {},
   "outputs": [],
   "source": [
    "# pipe_LogReg_pol.get_params()"
   ]
  },
  {
   "cell_type": "code",
   "execution_count": 70,
   "metadata": {},
   "outputs": [],
   "source": [
    "param_LR = {\n",
    "    'algo__C': np.logspace(-7 , 3, 20),\n",
    "    'algo__class_weight': [None,{0:0.1,1:0.9},{0:0.2,1:0.8},{0:0.15,1:0.85}],\n",
    "    'algo__penalty': ['l1', 'l2', 'elasticnet']\n",
    "}"
   ]
  },
  {
   "cell_type": "code",
   "execution_count": 71,
   "metadata": {},
   "outputs": [],
   "source": [
    "skf = StratifiedKFold(n_splits=3, random_state=42)"
   ]
  },
  {
   "cell_type": "code",
   "execution_count": 72,
   "metadata": {},
   "outputs": [],
   "source": [
    "LR_tune=GridSearchCV(pipe_LogReg_pol, param_LR, cv = skf, scoring='f1', n_jobs=-1, verbose=1)"
   ]
  },
  {
   "cell_type": "code",
   "execution_count": 73,
   "metadata": {},
   "outputs": [
    {
     "name": "stdout",
     "output_type": "stream",
     "text": [
      "Fitting 3 folds for each of 240 candidates, totalling 720 fits\n"
     ]
    },
    {
     "name": "stderr",
     "output_type": "stream",
     "text": [
      "[Parallel(n_jobs=-1)]: Using backend LokyBackend with 8 concurrent workers.\n",
      "[Parallel(n_jobs=-1)]: Done  34 tasks      | elapsed:   38.6s\n",
      "[Parallel(n_jobs=-1)]: Done 184 tasks      | elapsed:  2.5min\n",
      "[Parallel(n_jobs=-1)]: Done 434 tasks      | elapsed:  5.5min\n",
      "[Parallel(n_jobs=-1)]: Done 720 out of 720 | elapsed:  9.2min finished\n"
     ]
    },
    {
     "data": {
      "text/plain": [
       "GridSearchCV(cv=StratifiedKFold(n_splits=3, random_state=42, shuffle=False),\n",
       "             estimator=Pipeline(steps=[('prep',\n",
       "                                        ColumnTransformer(transformers=[('numeric',\n",
       "                                                                         Pipeline(steps=[('imputer',\n",
       "                                                                                          SimpleImputer()),\n",
       "                                                                                         ('poly',\n",
       "                                                                                          PolynomialFeatures(degree=3,\n",
       "                                                                                                             include_bias=False))]),\n",
       "                                                                         ['LIMIT_BAL',\n",
       "                                                                          'PAY_1',\n",
       "                                                                          'PAY_2',\n",
       "                                                                          'PAY_3',\n",
       "                                                                          'PAY_4',\n",
       "                                                                          'PAY_5',\n",
       "                                                                          'PAY_6',\n",
       "                                                                          'BILL_AMT1',\n",
       "                                                                          'BILL_AMT2',\n",
       "                                                                          'BILL_AMT3'...\n",
       "       1.27427499e-05, 4.28133240e-05, 1.43844989e-04, 4.83293024e-04,\n",
       "       1.62377674e-03, 5.45559478e-03, 1.83298071e-02, 6.15848211e-02,\n",
       "       2.06913808e-01, 6.95192796e-01, 2.33572147e+00, 7.84759970e+00,\n",
       "       2.63665090e+01, 8.85866790e+01, 2.97635144e+02, 1.00000000e+03]),\n",
       "                         'algo__class_weight': [None, {0: 0.1, 1: 0.9},\n",
       "                                                {0: 0.2, 1: 0.8},\n",
       "                                                {0: 0.15, 1: 0.85}],\n",
       "                         'algo__penalty': ['l1', 'l2', 'elasticnet']},\n",
       "             scoring='f1', verbose=1)"
      ]
     },
     "execution_count": 73,
     "metadata": {},
     "output_type": "execute_result"
    }
   ],
   "source": [
    "LR_tune.fit(X1_train, y1_train)"
   ]
  },
  {
   "cell_type": "code",
   "execution_count": 74,
   "metadata": {},
   "outputs": [
    {
     "data": {
      "text/plain": [
       "{'algo__C': 1.274274985703132e-05,\n",
       " 'algo__class_weight': {0: 0.15, 1: 0.85},\n",
       " 'algo__penalty': 'l2'}"
      ]
     },
     "execution_count": 74,
     "metadata": {},
     "output_type": "execute_result"
    }
   ],
   "source": [
    "LR_tune.best_params_"
   ]
  },
  {
   "cell_type": "code",
   "execution_count": 75,
   "metadata": {},
   "outputs": [
    {
     "name": "stdout",
     "output_type": "stream",
     "text": [
      "              precision    recall  f1-score   support\n",
      "\n",
      "           0       0.81      0.67      0.74      3442\n",
      "           1       0.32      0.50      0.39      1049\n",
      "\n",
      "    accuracy                           0.63      4491\n",
      "   macro avg       0.56      0.58      0.56      4491\n",
      "weighted avg       0.70      0.63      0.65      4491\n",
      "\n"
     ]
    }
   ],
   "source": [
    "LR_tune_1=LR_tune.best_estimator_\n",
    "\n",
    "Y_pred_logreg=LR_tune_1.predict(X1_test)\n",
    "Y_pred_logreg_tr=LR_tune_1.predict(X1_train)\n",
    "\n",
    "LR_acc_train = accuracy_score(y1_train, Y_pred_logreg_tr)\n",
    "LR_acc_ts = accuracy_score(y1_test, Y_pred_logreg)\n",
    "LR_rec_train = recall_score(y1_train, Y_pred_logreg_tr)\n",
    "LR_rec_ts = recall_score(y1_test, Y_pred_logreg)\n",
    "LR_prec_train = precision_score(y1_train, Y_pred_logreg_tr)\n",
    "LR_prec_ts = precision_score(y1_test, Y_pred_logreg)\n",
    "LR_f1_train = f1_score(y1_train, Y_pred_logreg_tr)\n",
    "LR_f1_ts = f1_score(y1_test, Y_pred_logreg)\n",
    "\n",
    "print(classification_report(y1_test, Y_pred_logreg))"
   ]
  },
  {
   "cell_type": "code",
   "execution_count": 76,
   "metadata": {},
   "outputs": [
    {
     "data": {
      "text/html": [
       "<div>\n",
       "<style scoped>\n",
       "    .dataframe tbody tr th:only-of-type {\n",
       "        vertical-align: middle;\n",
       "    }\n",
       "\n",
       "    .dataframe tbody tr th {\n",
       "        vertical-align: top;\n",
       "    }\n",
       "\n",
       "    .dataframe thead th {\n",
       "        text-align: right;\n",
       "    }\n",
       "</style>\n",
       "<table border=\"1\" class=\"dataframe\">\n",
       "  <thead>\n",
       "    <tr style=\"text-align: right;\">\n",
       "      <th></th>\n",
       "      <th>Pred 1</th>\n",
       "      <th>Pred 0</th>\n",
       "    </tr>\n",
       "  </thead>\n",
       "  <tbody>\n",
       "    <tr>\n",
       "      <th>Akt 1</th>\n",
       "      <td>522</td>\n",
       "      <td>527</td>\n",
       "    </tr>\n",
       "    <tr>\n",
       "      <th>Akt 0</th>\n",
       "      <td>1135</td>\n",
       "      <td>2307</td>\n",
       "    </tr>\n",
       "  </tbody>\n",
       "</table>\n",
       "</div>"
      ],
      "text/plain": [
       "       Pred 1  Pred 0\n",
       "Akt 1     522     527\n",
       "Akt 0    1135    2307"
      ]
     },
     "execution_count": 76,
     "metadata": {},
     "output_type": "execute_result"
    }
   ],
   "source": [
    "cm_LR_2 = confusion_matrix(y1_test, Y_pred_logreg, labels=[1, 0])\n",
    "df_LR_2 = pd.DataFrame(cm_LR_2, index=['Akt 1', 'Akt 0'], columns = ['Pred 1', 'Pred 0'])\n",
    "df_LR_2"
   ]
  },
  {
   "cell_type": "markdown",
   "metadata": {},
   "source": [
    "## Random Forest Tuning"
   ]
  },
  {
   "cell_type": "code",
   "execution_count": 77,
   "metadata": {},
   "outputs": [],
   "source": [
    "# pipe_RF_pol.get_params()"
   ]
  },
  {
   "cell_type": "code",
   "execution_count": 78,
   "metadata": {},
   "outputs": [],
   "source": [
    "param_rf={\n",
    "    'algo__class_weight': [None,{0:0.1,1:0.9},{0:0.2,1:0.8},{0:0.15,1:0.85},{0:1,1:0.9}],\n",
    "    'algo__max_depth': [None,np.arange(2,50,5)], \n",
    "     'algo__max_features': ['auto',0.7,0.8,0.9],\n",
    "    'algo__min_samples_leaf': np.arange(2,50,4),\n",
    "     'algo__min_samples_split': np.arange(2,50,4), \n",
    "    'algo__n_estimators':np.arange(100, 2001,150),\n",
    "}"
   ]
  },
  {
   "cell_type": "code",
   "execution_count": 79,
   "metadata": {},
   "outputs": [],
   "source": [
    "skf = StratifiedKFold(n_splits=3, random_state=42)"
   ]
  },
  {
   "cell_type": "code",
   "execution_count": 80,
   "metadata": {},
   "outputs": [],
   "source": [
    "RF_tune = RandomizedSearchCV(pipe_RF_pol, param_rf,n_iter=50, cv = skf, scoring = 'f1', n_jobs = -1, verbose=1,random_state=42)"
   ]
  },
  {
   "cell_type": "code",
   "execution_count": null,
   "metadata": {},
   "outputs": [
    {
     "name": "stdout",
     "output_type": "stream",
     "text": [
      "Fitting 3 folds for each of 50 candidates, totalling 150 fits\n"
     ]
    },
    {
     "name": "stderr",
     "output_type": "stream",
     "text": [
      "[Parallel(n_jobs=-1)]: Using backend LokyBackend with 8 concurrent workers.\n"
     ]
    }
   ],
   "source": [
    "RF_tune.fit(X1_train, y1_train)"
   ]
  },
  {
   "cell_type": "code",
   "execution_count": null,
   "metadata": {},
   "outputs": [],
   "source": [
    "RF_tune.best_params_"
   ]
  },
  {
   "cell_type": "code",
   "execution_count": null,
   "metadata": {},
   "outputs": [],
   "source": [
    "RF_tune_1=RF_tune.best_estimator_\n",
    "\n",
    "Y_pred_rf=RF_tune_1.predict(X1_test)\n",
    "Y_pred_rf_tr=RF_tune_1.predict(X1_train)\n",
    "\n",
    "rf_acc_train = accuracy_score(y1_train, Y_pred_rf_tr)\n",
    "rf_acc_ts = accuracy_score(y1_test, Y_pred_rf)\n",
    "rf_rec_train = recall_score(y1_train, Y_pred_rf_tr)\n",
    "rf_rec_ts = recall_score(y1_test, Y_pred_rf)\n",
    "rf_prec_train = precision_score(y1_train, Y_pred_rf_tr)\n",
    "rf_prec_ts = precision_score(y1_test, Y_pred_rf)\n",
    "rf_f1_train = f1_score(y1_train, Y_pred_rf_tr)\n",
    "rf_f1_ts = f1_score(y1_test, Y_pred_rf)\n",
    "\n",
    "print(classification_report(y1_test, Y_pred_rf))"
   ]
  },
  {
   "cell_type": "code",
   "execution_count": null,
   "metadata": {},
   "outputs": [],
   "source": [
    "cm_rf_2 = confusion_matrix(y1_test, Y_pred_rf, labels=[1, 0])\n",
    "df_rf_2 = pd.DataFrame(cm_rf_2, index=['Akt 1', 'Akt 0'], columns = ['Pred 1', 'Pred 0'])\n",
    "df_rf_2"
   ]
  },
  {
   "cell_type": "code",
   "execution_count": null,
   "metadata": {},
   "outputs": [],
   "source": [
    "cm_rf_tr = confusion_matrix(y1_train, Y_pred_rf_tr, labels=[1, 0])\n",
    "df_rf_tr = pd.DataFrame(cm_rf_tr, index=['Akt 1', 'Akt 0'], columns = ['Pred 1', 'Pred 0'])\n",
    "df_rf_tr"
   ]
  },
  {
   "cell_type": "code",
   "execution_count": null,
   "metadata": {},
   "outputs": [],
   "source": []
  },
  {
   "cell_type": "code",
   "execution_count": null,
   "metadata": {},
   "outputs": [],
   "source": []
  },
  {
   "cell_type": "markdown",
   "metadata": {},
   "source": [
    "# Kesimpulan EDA \n",
    "- Hanya ~23% nasabah yang default credit (delay membayar) bulan ini.\n",
    "- Pria yang sudah menikah memiliki limit balance yang lebih tinggi\n",
    "- Pengguna cc ini mayoritas berstatus single dan bergender female\n",
    "- umur tidak begitu pengaruh\n",
    "- Yang memiliki tagihan dan limit lebih tinggi memiliki kecenderungan untuk membayar tepat waktu"
   ]
  },
  {
   "cell_type": "markdown",
   "metadata": {},
   "source": [
    "## Evaluation Matrix yang akan diperhatikan"
   ]
  },
  {
   "cell_type": "markdown",
   "metadata": {},
   "source": [
    "##### Dataset ini merupakan dataset detektor yang diperuntukkan mencari nasabah yang 'default payment' bulan depan, atau menunggak bulan depan. Sehingga yang menjadi concern dari model data ini adalah True Positif (1), dan menurunkan data yang diprediksi tidak menunggak, padahal aktualnya menunggak (false negatif). Parameter yang diperhatikan adalah recall poisitf(1) dan f1-score\n",
    "- False Negatif : Aktual Default Credit, prediksi non DC\n",
    "- False Positif : Aktual non Default Credit, prediksi DC\n",
    "- True Positif : Aktual dan prediksi default credit\n",
    "- Tru negatif : aktual dan prediksi non default creadit\n",
    "\n",
    "- recall positif : perbandingan antara jumlah seluruh tebakan positif dibandingkan dengan data aktual positif\n",
    "- F-1 Score : Rata-rata harmonik antara recall dan precision para meter ini diperhatikan karna agar tidak terjadi perbedaan yang sangat jauh antara FN dan FP\n"
   ]
  },
  {
   "cell_type": "markdown",
   "metadata": {},
   "source": [
    "## Penjelasan Evaluation Matrix model pilihan"
   ]
  },
  {
   "cell_type": "code",
   "execution_count": 53,
   "metadata": {},
   "outputs": [
    {
     "name": "stdout",
     "output_type": "stream",
     "text": [
      "              precision    recall  f1-score   support\n",
      "\n",
      "           0       0.88      0.40      0.55      3442\n",
      "           1       0.30      0.83      0.44      1049\n",
      "\n",
      "    accuracy                           0.50      4491\n",
      "   macro avg       0.59      0.61      0.49      4491\n",
      "weighted avg       0.75      0.50      0.52      4491\n",
      "\n"
     ]
    }
   ],
   "source": [
    "pipe_LogReg_1.fit(X1_train,y1_train)\n",
    "\n",
    "Y_pred_logreg_1=pipe_LogReg_1.predict(X1_test)\n",
    "Y_pred_logreg_1_tr=pipe_LogReg_1.predict(X1_train)\n",
    "\n",
    "LR_acc_1_train = accuracy_score(y1_train, Y_pred_logreg_1_tr)\n",
    "LR_acc_1_ts = accuracy_score(y1_test, Y_pred_logreg_1)\n",
    "LR_rec_1_train = recall_score(y1_train, Y_pred_logreg_1_tr)\n",
    "LR_rec_1_ts = recall_score(y1_test, Y_pred_logreg_1)\n",
    "LR_prec_1_train = precision_score(y1_train, Y_pred_logreg_1_tr)\n",
    "LR_prec_1_ts = precision_score(y1_test, Y_pred_logreg_1)\n",
    "LR_f1_1_train = f1_score(y1_train, Y_pred_logreg_1_tr)\n",
    "LR_f1_1_ts = f1_score(y1_test, Y_pred_logreg_1)\n",
    "\n",
    "print(classification_report(y1_test, Y_pred_logreg_1))"
   ]
  },
  {
   "cell_type": "code",
   "execution_count": 54,
   "metadata": {},
   "outputs": [
    {
     "data": {
      "text/html": [
       "<div>\n",
       "<style scoped>\n",
       "    .dataframe tbody tr th:only-of-type {\n",
       "        vertical-align: middle;\n",
       "    }\n",
       "\n",
       "    .dataframe tbody tr th {\n",
       "        vertical-align: top;\n",
       "    }\n",
       "\n",
       "    .dataframe thead th {\n",
       "        text-align: right;\n",
       "    }\n",
       "</style>\n",
       "<table border=\"1\" class=\"dataframe\">\n",
       "  <thead>\n",
       "    <tr style=\"text-align: right;\">\n",
       "      <th></th>\n",
       "      <th>Pred 1</th>\n",
       "      <th>Pred 0</th>\n",
       "    </tr>\n",
       "  </thead>\n",
       "  <tbody>\n",
       "    <tr>\n",
       "      <th>Akt 1</th>\n",
       "      <td>869</td>\n",
       "      <td>180</td>\n",
       "    </tr>\n",
       "    <tr>\n",
       "      <th>Akt 0</th>\n",
       "      <td>2073</td>\n",
       "      <td>1369</td>\n",
       "    </tr>\n",
       "  </tbody>\n",
       "</table>\n",
       "</div>"
      ],
      "text/plain": [
       "       Pred 1  Pred 0\n",
       "Akt 1     869     180\n",
       "Akt 0    2073    1369"
      ]
     },
     "execution_count": 54,
     "metadata": {},
     "output_type": "execute_result"
    }
   ],
   "source": [
    "cm_LR_1 = confusion_matrix(y1_test, Y_pred_logreg_1, labels=[1, 0])\n",
    "df_LR_1 = pd.DataFrame(cm_LR_1, index=['Akt 1', 'Akt 0'], columns = ['Pred 1', 'Pred 0'])\n",
    "df_LR_1"
   ]
  },
  {
   "cell_type": "markdown",
   "metadata": {},
   "source": [
    "- accuracy tidak begitu diperhatikan karna ini merupakan dattaset imbalance. yang tujuannyaadaah melihat parameter recal/precision\n",
    "- memiliki jumlah data false negatif terendah dibanding model lainnya\n",
    "- memiliki nilai recall tertinggi"
   ]
  },
  {
   "cell_type": "markdown",
   "metadata": {},
   "source": [
    "# Rekomendasi Model "
   ]
  },
  {
   "cell_type": "markdown",
   "metadata": {},
   "source": [
    "Berdasarkan nilai recall +, jumlah data False negatif dan false positif yang dapat dilihar dari confusion matrix dan classification report. saya merekomendasikan model LogReg_1 karena dibandingkan yang lain model ini lebih unggul."
   ]
  },
  {
   "cell_type": "markdown",
   "metadata": {},
   "source": [
    "- misal sekali menelfon pelanggan itu costnya adalah 10(dollar) dan jika 1 nasabah lupa membayar cc bulan itu dimisalkan perusahaan merugi sebanyak 5000(dollar).\n",
    "- maka kerugian yang dialami perusahaan bulan depan adalah sekitar 2073x10 + 180x4000=740.730\n",
    "- Model ini lebih baik dibanding yang lai yang mencapai kerugian sekitar 2.000.000 lebih\n",
    "- Model ini juga dipilih berdasarkan score Recall+ terbaik"
   ]
  },
  {
   "cell_type": "code",
   "execution_count": null,
   "metadata": {},
   "outputs": [],
   "source": []
  },
  {
   "cell_type": "markdown",
   "metadata": {},
   "source": [
    "# Export Model"
   ]
  },
  {
   "cell_type": "code",
   "execution_count": null,
   "metadata": {},
   "outputs": [],
   "source": [
    "joblib.dump(pipe_LogReg_1, 'Model_DefaultCredit')"
   ]
  },
  {
   "cell_type": "code",
   "execution_count": null,
   "metadata": {},
   "outputs": [],
   "source": []
  },
  {
   "cell_type": "markdown",
   "metadata": {},
   "source": [
    "# Evaluasi Diri\n",
    "- Jangan kebanyakan ngasi parameter kalo waktunya mepet. Harus paham dan mengerti kemampuan laptop."
   ]
  },
  {
   "cell_type": "code",
   "execution_count": null,
   "metadata": {},
   "outputs": [],
   "source": []
  },
  {
   "cell_type": "code",
   "execution_count": null,
   "metadata": {},
   "outputs": [],
   "source": []
  },
  {
   "cell_type": "code",
   "execution_count": null,
   "metadata": {},
   "outputs": [],
   "source": []
  }
 ],
 "metadata": {
  "kernelspec": {
   "display_name": "Python 3",
   "language": "python",
   "name": "python3"
  },
  "language_info": {
   "codemirror_mode": {
    "name": "ipython",
    "version": 3
   },
   "file_extension": ".py",
   "mimetype": "text/x-python",
   "name": "python",
   "nbconvert_exporter": "python",
   "pygments_lexer": "ipython3",
   "version": "3.8.3"
  }
 },
 "nbformat": 4,
 "nbformat_minor": 4
}
